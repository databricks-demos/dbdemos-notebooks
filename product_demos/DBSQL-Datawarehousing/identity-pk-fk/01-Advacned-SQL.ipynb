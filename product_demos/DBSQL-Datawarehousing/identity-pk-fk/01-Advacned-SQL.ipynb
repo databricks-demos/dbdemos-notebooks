{
 "cells": [
  {
   "cell_type": "code",
   "execution_count": 0,
   "metadata": {
    "application/vnd.databricks.v1+cell": {
     "cellMetadata": {
      "byteLimit": 2048000,
      "rowLimit": 10000
     },
     "inputWidgets": {},
     "nuid": "9e7a4230-7916-47e1-b124-1f7f923139f9",
     "showTitle": false,
     "tableResultSettingsMap": {},
     "title": ""
    }
   },
   "outputs": [],
   "source": [
    "%run ./_resources/00-setup"
   ]
  },
  {
   "cell_type": "markdown",
   "metadata": {
    "application/vnd.databricks.v1+cell": {
     "cellMetadata": {},
     "inputWidgets": {},
     "nuid": "3172f434-6b66-4d44-9ec1-bd4d7b4e579a",
     "showTitle": false,
     "tableResultSettingsMap": {},
     "title": ""
    }
   },
   "source": [
    "## 1/ Let's define a variable \n",
    "\n",
    "We want to do that in SQL, to show multi-language support:\n",
    "1. Declare a variable and call it to display its value"
   ]
  },
  {
   "cell_type": "code",
   "execution_count": 0,
   "metadata": {
    "application/vnd.databricks.v1+cell": {
     "cellMetadata": {
      "byteLimit": 2048000,
      "rowLimit": 10000
     },
     "inputWidgets": {},
     "nuid": "bba8f33a-9f99-4569-a9f0-cac65d34379b",
     "showTitle": false,
     "tableResultSettingsMap": {},
     "title": ""
    }
   },
   "outputs": [],
   "source": [
    "DECLARE OR REPLACE VARIABLE myvar INT DEFAULT 17;\n",
    "SELECT myvar;"
   ]
  },
  {
   "cell_type": "markdown",
   "metadata": {
    "application/vnd.databricks.v1+cell": {
     "cellMetadata": {},
     "inputWidgets": {},
     "nuid": "6f2ea321-64dd-4d14-8294-9015a0f0e839",
     "showTitle": false,
     "tableResultSettingsMap": {},
     "title": ""
    }
   },
   "source": [
    "## 2/ Let's execute multiple statements \n",
    "\n",
    "We want to do that in SQL, to show multi-language support:\n",
    "1. Use multi-statements in a script to delete a record from fact_sales and insert a new record"
   ]
  },
  {
   "cell_type": "code",
   "execution_count": 0,
   "metadata": {
    "application/vnd.databricks.v1+cell": {
     "cellMetadata": {
      "byteLimit": 2048000,
      "rowLimit": 10000
     },
     "inputWidgets": {},
     "nuid": "4391d605-7e6a-45ba-b882-0af9c46612a3",
     "showTitle": false,
     "tableResultSettingsMap": {},
     "title": ""
    }
   },
   "outputs": [],
   "source": [
    "-- Add and delete records from fact tables multi-statement example \n",
    "\n",
    "BEGIN\n",
    "  DELETE FROM fact_sales WHERE sales_id = 1;\n",
    "  INSERT INTO fact_sales (product_id, store_id, customer_id, price_sold, units_sold, dollar_cost) VALUES (1, 1, 0, 100.99, 2, 2.99);\n",
    "  SELECT * FROM fact_sales;\n",
    "END;"
   ]
  },
  {
   "cell_type": "markdown",
   "metadata": {
    "application/vnd.databricks.v1+cell": {
     "cellMetadata": {},
     "inputWidgets": {},
     "nuid": "c83fa760-5ac8-4d20-a18e-6d684585c1ea",
     "showTitle": false,
     "tableResultSettingsMap": {},
     "title": ""
    }
   },
   "source": [
    "## 2/ Let's see an example of stored procedures in DBSQL\n",
    "\n",
    "We want to do that in SQL, to show multi-language support:\n",
    "1. Create a stored procedure to calculate revenue \n",
    "2. Use created stored procedure "
   ]
  },
  {
   "cell_type": "code",
   "execution_count": 0,
   "metadata": {
    "application/vnd.databricks.v1+cell": {
     "cellMetadata": {},
     "inputWidgets": {},
     "nuid": "5ed2d0d8-c5a0-4038-bc34-a351c24ca384",
     "showTitle": false,
     "tableResultSettingsMap": {},
     "title": ""
    }
   },
   "outputs": [],
   "source": [
    "-- Stored procedures run only on specific DBR versions and may need to be enabled  \n",
    "CREATE OR REPLACE PROCEDURE main.vibhor_nigam.total_revenue(IN price_sold DOUBLE, IN units_sold INT, OUT revenue DOUBLE)\n",
    "LANGUAGE SQL\n",
    "SQL SECURITY INVOKER\n",
    "AS BEGIN\n",
    "  SET revenue = price_sold * units_sold;\n",
    "END;"
   ]
  },
  {
   "cell_type": "code",
   "execution_count": 0,
   "metadata": {
    "application/vnd.databricks.v1+cell": {
     "cellMetadata": {},
     "inputWidgets": {},
     "nuid": "61b8f3c5-711b-462f-9693-b802de0b08bb",
     "showTitle": false,
     "tableResultSettingsMap": {},
     "title": ""
    }
   },
   "outputs": [],
   "source": [
    "DECLARE revenue DOUBLE DEFAULT 0;\n",
    "CALL main.vibhor_nigam.total_revenue(100.99, 3, revenue);\n",
    "SELECT revenue;"
   ]
  },
  {
   "cell_type": "markdown",
   "metadata": {
    "application/vnd.databricks.v1+cell": {
     "cellMetadata": {},
     "inputWidgets": {},
     "nuid": "779332c8-be72-4c19-8944-04307b28f8c9",
     "showTitle": false,
     "tableResultSettingsMap": {},
     "title": ""
    }
   },
   "source": [
    "## 3/ Recursive loop example "
   ]
  },
  {
   "cell_type": "code",
   "execution_count": 0,
   "metadata": {
    "application/vnd.databricks.v1+cell": {
     "cellMetadata": {
      "byteLimit": 2048000,
      "rowLimit": 10000
     },
     "inputWidgets": {},
     "nuid": "02ed85ad-5bca-4333-8311-f6a2cd19b1dd",
     "showTitle": false,
     "tableResultSettingsMap": {},
     "title": ""
    }
   },
   "outputs": [],
   "source": [
    "WITH RECURSIVE revene_facts AS (\n",
    "  SELECT 0 AS price_sold, 0 as units_sold , 0 AS revenue\n",
    "  UNION ALL \n",
    "  SELECT  r.price_sold,\n",
    "          r.units_sold,\n",
    "          r.price_sold * r.units_sold as revenue\n",
    "  FROM fact_sales AS r\n",
    ")\n",
    "\n",
    "SELECT * FROM revene_facts"
   ]
  },
  {
   "cell_type": "markdown",
   "metadata": {
    "application/vnd.databricks.v1+cell": {
     "cellMetadata": {},
     "inputWidgets": {},
     "nuid": "ffbba950-f64d-44dd-9ee4-01da2db8f8b9",
     "showTitle": false,
     "tableResultSettingsMap": {},
     "title": ""
    }
   },
   "source": [
    "## 4/ For loop example "
   ]
  },
  {
   "cell_type": "code",
   "execution_count": 0,
   "metadata": {
    "application/vnd.databricks.v1+cell": {
     "cellMetadata": {
      "byteLimit": 2048000,
      "rowLimit": 10000
     },
     "inputWidgets": {},
     "nuid": "e7ccd75b-3b0c-497c-b60e-4fef5ed29f13",
     "showTitle": false,
     "tableResultSettingsMap": {},
     "title": ""
    }
   },
   "outputs": [],
   "source": [
    "-- For loop statement \n",
    "-- sum all units_sold from a given table\n",
    "BEGIN\n",
    "  DECLARE total_units_sold INT DEFAULT 0;\n",
    "  sumNumbers: FOR row AS SELECT units_sold FROM fact_sales DO\n",
    "    SET total_units_sold = total_units_sold + row.units_sold;\n",
    "  END FOR sumNumbers;\n",
    "  VALUES (total_units_sold);\n",
    "END;"
   ]
  },
  {
   "cell_type": "markdown",
   "metadata": {
    "application/vnd.databricks.v1+cell": {
     "cellMetadata": {},
     "inputWidgets": {},
     "nuid": "96bf5454-26a8-4cd8-a0ba-9110e495d219",
     "showTitle": false,
     "tableResultSettingsMap": {},
     "title": ""
    }
   },
   "source": [
    "## 5/ While loop example "
   ]
  },
  {
   "cell_type": "code",
   "execution_count": 0,
   "metadata": {
    "application/vnd.databricks.v1+cell": {
     "cellMetadata": {
      "byteLimit": 2048000,
      "rowLimit": 10000
     },
     "inputWidgets": {},
     "nuid": "639d2468-5c90-405f-b524-5f44c0e432d8",
     "showTitle": false,
     "tableResultSettingsMap": {},
     "title": ""
    }
   },
   "outputs": [],
   "source": [
    "\n",
    "-- sum up all odd numbers from 1 through 10\n",
    "  BEGIN\n",
    "    DECLARE sum INT DEFAULT 0;\n",
    "    DECLARE num INT DEFAULT 0;\n",
    "    sumNumbers: WHILE num < 10 DO\n",
    "      SET num = num + 1;\n",
    "      IF num % 2 = 0 THEN\n",
    "        ITERATE sumNumbers;\n",
    "      END IF;\n",
    "      SET sum = sum + num;\n",
    "    END WHILE sumNumbers;\n",
    "    VALUES (sum);\n",
    "  END;"
   ]
  },
  {
   "cell_type": "code",
   "execution_count": 0,
   "metadata": {
    "application/vnd.databricks.v1+cell": {
     "cellMetadata": {},
     "inputWidgets": {},
     "nuid": "bdeb9ba9-fdbb-4c3d-b5c5-600c640f159b",
     "showTitle": false,
     "tableResultSettingsMap": {},
     "title": ""
    }
   },
   "outputs": [],
   "source": []
  }
 ],
 "metadata": {
  "application/vnd.databricks.v1+notebook": {
   "computePreferences": null,
   "dashboards": [],
   "environmentMetadata": {
    "base_environment": "",
    "environment_version": "3"
   },
   "inputWidgetPreferences": null,
   "language": "sql",
   "notebookMetadata": {
    "pythonIndentUnit": 2
   },
   "notebookName": "01-Advacned-SQL",
   "widgets": {}
  },
  "language_info": {
   "name": "sql"
  }
 },
 "nbformat": 4,
 "nbformat_minor": 0
}
