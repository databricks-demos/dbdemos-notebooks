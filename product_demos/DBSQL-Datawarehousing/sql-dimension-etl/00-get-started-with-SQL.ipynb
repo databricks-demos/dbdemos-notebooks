{
 "cells": [
  {
   "cell_type": "markdown",
   "metadata": {
    "application/vnd.databricks.v1+cell": {
     "cellMetadata": {
      "byteLimit": 2048000,
      "rowLimit": 10000
     },
     "inputWidgets": {},
     "nuid": "a555ed11-89b5-4e6f-ac55-9c19e0a6cbe7",
     "showTitle": false,
     "tableResultSettingsMap": {},
     "title": ""
    }
   },
   "source": [
    "# Databricks SQL\n",
    "<br>\n",
    "\n",
    "<div style=\"float: right; width: 100%;\">\n",
    "  <img \n",
    "    src=\"https://raw.githubusercontent.com/databricks-demos/dbdemos-resources/refs/heads/main/images/dbsql/sql-etl-hls-patient/Databricks%20SQL%20Intro.png?raw=true\" \n",
    "    width=\"100%\"\n",
    "  >\n",
    "</div>\n",
    "\n",
    "<br>"
   ]
  },
  {
   "cell_type": "markdown",
   "metadata": {
    "application/vnd.databricks.v1+cell": {
     "cellMetadata": {
      "byteLimit": 2048000,
      "rowLimit": 10000
     },
     "inputWidgets": {},
     "nuid": "368abc59-295a-46ff-a327-49b356f0fc47",
     "showTitle": false,
     "tableResultSettingsMap": {},
     "title": ""
    }
   },
   "source": [
    "# Migrate a Healthcare Data Warehouse and Build a Star Schema with Databricks\n",
    "\n",
    "## **🎯 Scenario**\n",
    "\n",
    "A hospital is migrating its legacy data warehouse to the **Databricks Lakehouse Platform** to modernize analytics and reduce operational complexity.\n",
    "\n",
    "Two personas lead the effort:\n",
    "\n",
    "- 🏗️ **Data Architect**:\n",
    "    - Design data models (star or snowflake schema), considering performance and reporting.\n",
    "    - Map source data, defining types and transformations.\n",
    "    - Collaborate with stakeholders to translate business needs (KPIs, reporting) into logical and physical models.\n",
    "    - Establish data governance and quality rules.\n",
    "    - Ensure scalability.\n",
    "- 🔧 **Data Engineer**:\n",
    "    - Build and maintain data pipelines to ingest, transform, and load data into the data warehouse.\n",
    "    - Design and develop ETL/ELT processes for efficient data flow.\n",
    "    - Monitor and troubleshoot data pipelines for performance and reliability.\n",
    "    - Implement data quality checks and validation processes.\n",
    "    - Manage and optimize data warehouse infrastructure.\n",
    "    - Automate data-related tasks and workflows.\n",
    "    - Collaborate with data architects and analysts to understand data requirements.\n",
    "    - Deploy and manage data pipelines in production environments.\n",
    "\n",
    "This demo covers **Step 1**: creating and populating the patient\\_dim dimension table. **Step 2** will involve building the full star schema and powering BI reports."
   ]
  },
  {
   "cell_type": "markdown",
   "metadata": {
    "application/vnd.databricks.v1+cell": {
     "cellMetadata": {
      "byteLimit": 2048000,
      "rowLimit": 10000
     },
     "inputWidgets": {},
     "nuid": "6008ccf2-cb0b-43fe-b747-5065cce504c7",
     "showTitle": false,
     "tableResultSettingsMap": {},
     "title": ""
    }
   },
   "source": [
    "# End-to-End Data Warehousing Solution\n",
    "<br>\n",
    "\n",
    "<div style=\"float: right; width: 100%;\">\n",
    "\n",
    "<img src=\"https://raw.githubusercontent.com/databricks-demos/dbdemos-resources/refs/heads/main/images/dbsql/sql-etl-hls-patient/Databricks%20SQL%20Marketecture.png?raw=true\" style=\"float: right\" width=\"100%\">\n",
    "\n",
    "</div>"
   ]
  },
  {
   "cell_type": "markdown",
   "metadata": {
    "application/vnd.databricks.v1+cell": {
     "cellMetadata": {},
     "inputWidgets": {},
     "nuid": "28f47341-2eeb-4db9-a67f-efe73c3f965f",
     "showTitle": false,
     "tableResultSettingsMap": {},
     "title": ""
    }
   },
   "source": [
    "# 🛠 What We’ll Build\n",
    "\n",
    "- Model the patient\\_dim table\n",
    "- Ingest raw patient data\n",
    "- Clean and standardize the data\n",
    "- Populate the SCD 2 Patient dimension\n",
    "- Build idempotent (i.e. recoverable) pipelines\n"
   ]
  },
  {
   "cell_type": "markdown",
   "metadata": {
    "application/vnd.databricks.v1+cell": {
     "cellMetadata": {},
     "inputWidgets": {},
     "nuid": "ef81883a-4ab9-43a7-85d2-f7301eaf28f8",
     "showTitle": false,
     "tableResultSettingsMap": {},
     "title": ""
    }
   },
   "source": [
    "## 🔄 Workflow Overview\n",
    "\n",
    "High level flow:\n",
    "\n",
    "`Raw → Clean → patient_dim → Unity Catalog → Ready for fact joins`\n",
    "\n",
    "**Note:** We will be relying on several SQL Centric Engine Capabilities. Check out the examples in [SQL Centric Capabilities Examples]($./sql-centric-capabilities-examples)."
   ]
  },
  {
   "cell_type": "markdown",
   "metadata": {
    "application/vnd.databricks.v1+cell": {
     "cellMetadata": {},
     "inputWidgets": {},
     "nuid": "31f098b8-445f-4e45-bebe-33cee11148ed",
     "showTitle": false,
     "tableResultSettingsMap": {},
     "title": ""
    }
   },
   "source": [
    "## ✅ Outcome\n",
    "\n",
    "- patient\\_dim is clean, queryable, and governed\n",
    "- Analysts and BI users can join it with future fact tables (e.g. Patient Visit Fact Table)\n",
    "- Foundation for the full star schema is in place"
   ]
  },
  {
   "cell_type": "markdown",
   "metadata": {
    "application/vnd.databricks.v1+cell": {
     "cellMetadata": {
      "byteLimit": 2048000,
      "rowLimit": 10000
     },
     "inputWidgets": {},
     "nuid": "ccf8b02c-a593-4251-b533-e660d2a9759b",
     "showTitle": false,
     "tableResultSettingsMap": {},
     "title": ""
    }
   },
   "source": [
    "# Ok you're now ready, let's get started with the demo \n",
    "\n",
    "This example will create and populate a SCD Type 2 dimension using Databricks SQL.\n",
    "\n",
    "Start with: [Patient Dimension ETL Introduction]($./01-patient-dimension-ETL-introduction)"
   ]
  }
 ],
 "metadata": {
  "application/vnd.databricks.v1+notebook": {
   "computePreferences": null,
   "dashboards": [],
   "environmentMetadata": {
    "base_environment": "",
    "environment_version": "2"
   },
   "inputWidgetPreferences": null,
   "language": "sql",
   "notebookMetadata": {
    "pythonIndentUnit": 2
   },
   "notebookName": "00-get-started-with-SQL",
   "widgets": {}
  },
  "language_info": {
   "name": "sql"
  }
 },
 "nbformat": 4,
 "nbformat_minor": 0
}
