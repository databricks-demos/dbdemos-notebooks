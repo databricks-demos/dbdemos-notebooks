{
 "cells": [
  {
   "cell_type": "markdown",
   "metadata": {
    "application/vnd.databricks.v1+cell": {
     "cellMetadata": {
      "byteLimit": 2048000,
      "rowLimit": 10000
     },
     "inputWidgets": {},
     "nuid": "1784d715-99b4-4e16-be09-4cde0a0dc70c",
     "showTitle": false,
     "tableResultSettingsMap": {},
     "title": ""
    }
   },
   "source": [
    "# SQL Centric Engine Capabilities\n",
    "\n",
    "**Below are examples of some Databricks SQL capabilities.**\n",
    "\n",
    "The examples include 1) Using SQL Variables 2) SQL Scripting and Dynamic SQL."
   ]
  },
  {
   "cell_type": "markdown",
   "metadata": {
    "application/vnd.databricks.v1+cell": {
     "cellMetadata": {
      "byteLimit": 2048000,
      "rowLimit": 10000
     },
     "inputWidgets": {},
     "nuid": "2c783fcb-ff1f-4572-bf4c-ddf73e4df59a",
     "showTitle": false,
     "tableResultSettingsMap": {},
     "title": ""
    }
   },
   "source": [
    "%md \n",
    "## 1. Declare Variable\n",
    "\n",
    "Variables are typed objects which store values that are private to a session. In Databricks variables are temporary and declared within a session using the DECLARE VARIABLE statement.\n",
    "\n",
    "Public Documentation: [AWS](https://docs.databricks.com/aws/en/sql/language-manual/sql-ref-syntax-ddl-declare-variable) | [Azure](https://learn.microsoft.com/en-us/azure/databricks/sql/language-manual/sql-ref-syntax-ddl-declare-variable) | [GCP](https://docs.databricks.com/gcp/en/sql/language-manual/sql-ref-syntax-ddl-declare-variable)"
   ]
  },
  {
   "cell_type": "code",
   "execution_count": 0,
   "metadata": {
    "application/vnd.databricks.v1+cell": {
     "cellMetadata": {
      "byteLimit": 2048000,
      "implicitDf": true,
      "rowLimit": 10000
     },
     "inputWidgets": {},
     "nuid": "a22facfc-9b3b-4830-ae54-9f49df7a4a61",
     "showTitle": false,
     "tableResultSettingsMap": {},
     "title": ""
    }
   },
   "outputs": [],
   "source": [
    "-- Storage location for demo sample files\n",
    "DECLARE OR REPLACE VARIABLE cloud_loc STRING;\n",
    "SET VARIABLE cloud_loc = \"s3://dbdemos-dataset/dbsql/sql-etl-hls-patient\";\n",
    "\n",
    "-- List of sample patient data file names\n",
    "DECLARE OR REPLACE VARIABLE file_names ARRAY<STRING>;\n",
    "SET VARIABLE file_names = array('patients50_init.csv', 'patients_incr1.csv', 'patients_incr2.csv', 'NOTICE.txt');"
   ]
  },
  {
   "cell_type": "markdown",
   "metadata": {
    "application/vnd.databricks.v1+cell": {
     "cellMetadata": {
      "byteLimit": 2048000,
      "rowLimit": 10000
     },
     "inputWidgets": {},
     "nuid": "9bd241c8-d196-418f-b3ec-db7ac2bba482",
     "showTitle": false,
     "tableResultSettingsMap": {},
     "title": ""
    }
   },
   "source": [
    "%md \n",
    "## 2. SQL Scripting\n",
    "\n",
    "- Write complex logic with Pure SQL\n",
    "- Combine SQL Statements with Control Flow \n",
    "- SQL/PSM standard\n",
    "- Refer to Public Documentation: [AWS](https://docs.databricks.com/aws/en/sql/language-manual/sql-ref-scripting) | [Azure](https://learn.microsoft.com/en-us/azure/databricks/sql/language-manual/sql-ref-scripting) | [GCP](https://docs.databricks.com/gcp/pt/sql/language-manual/sql-ref-scripting)\n",
    "\n",
    "![](https://raw.githubusercontent.com/databricks-demos/dbdemos-resources/refs/heads/main/images/dbsql/sql-etl-hls-patient/SQL%20Scripting.png?raw)"
   ]
  },
  {
   "cell_type": "markdown",
   "metadata": {
    "application/vnd.databricks.v1+cell": {
     "cellMetadata": {
      "byteLimit": 2048000,
      "rowLimit": 10000
     },
     "inputWidgets": {},
     "nuid": "2bee861e-191b-4ed7-8bf1-d2387247ac22",
     "showTitle": false,
     "tableResultSettingsMap": {},
     "title": ""
    }
   },
   "source": [
    "%md-sandbox\n",
    "### Example\n",
    "\n",
    "The SQL Script below does the following:<br>\n",
    "\n",
    "Loop through the 3 patient sample data files to-\n",
    "1. Identify the headers\n",
    "2. Create persistent views in the current schema\n",
    "\n",
    "<u>NOTE</u>:\n",
    "The SQL script below will create or **replace** any existing views with the following names, in the current schema:\n",
    "- dbdemos_patients50_init\n",
    "- dbdemos_patients_incr1\n",
    "- dbdemos_patients_incr2"
   ]
  },
  {
   "cell_type": "code",
   "execution_count": 0,
   "metadata": {
    "application/vnd.databricks.v1+cell": {
     "cellMetadata": {
      "byteLimit": 2048000,
      "implicitDf": true,
      "rowLimit": 10000
     },
     "inputWidgets": {},
     "nuid": "b475dd03-b0b1-4da1-a10e-67ff052cb767",
     "showTitle": false,
     "tableResultSettingsMap": {},
     "title": ""
    }
   },
   "outputs": [],
   "source": [
    "-- Explore format of sample patient data files\n",
    "BEGIN\n",
    "  DECLARE first_row STRING;\n",
    "  DECLARE result_arr ARRAY<STRING> DEFAULT array();\n",
    "  DECLARE sqlstr STRING;\n",
    "  DECLARE view_name STRING;\n",
    "\n",
    "  -- Drop the 3 views if existing\n",
    "  -- These are created in this script\n",
    "  DROP VIEW IF EXISTS dbdemos_patients50_init;\n",
    "  DROP VIEW IF EXISTS dbdemos_patients_incr1;\n",
    "  DROP VIEW IF EXISTS dbdemos_patients_incr2;\n",
    "\n",
    "  lbl_for_loop:\n",
    "  FOR filelist AS (SELECT explode(file_names) AS file_name)\n",
    "  DO\n",
    "    -- For each file (name), do\n",
    "\n",
    "    -- Read first line from file into variable\n",
    "    SET first_row = (SELECT * FROM read_files(cloud_loc || '/' ||  filelist.file_name, format=>'TEXT') LIMIT 1);\n",
    "\n",
    "    IF (first_row IS NOT NULL)\n",
    "    THEN\n",
    "\n",
    "      IF startswith(first_row, 'Id,')\n",
    "      THEN\n",
    "        -- First line of file starts with Id column\n",
    "        -- Record this in result_arr\n",
    "        SET result_arr = array_append(result_arr, filelist.file_name || ' header: \\n' || first_row);\n",
    "\n",
    "        -- Create view for ease of data exploration\n",
    "        SET view_name = 'dbdemos_' || rtrim('.csv', filelist.file_name);\n",
    "\n",
    "        -- Note: Any temp view is limited to current scope\n",
    "        -- Below EXECUTE will create persistent view in the CURRENT SCHEMA\n",
    "        SET sqlstr = 'CREATE VIEW ' || view_name ||\n",
    "          ' AS SELECT * FROM read_files(\\'' || cloud_loc || '/' ||  filelist.file_name || '\\')';\n",
    "        EXECUTE IMMEDIATE sqlstr;\n",
    "      ELSE\n",
    "        SET result_arr = array_append(result_arr, filelist.file_name || ': ' || 'Header not present');\n",
    "      END IF;\n",
    "      \n",
    "    ELSE\n",
    "      -- file empty\n",
    "      SET result_arr = array_append(result_arr, filelist.file_name || ': ' || 'File empty');\n",
    "    END IF;\n",
    "\n",
    "  END FOR lbl_for_loop;\n",
    "\n",
    "  -- Show results for csv file header\n",
    "  SELECT explode(result_arr) AS result;\n",
    " END;"
   ]
  },
  {
   "cell_type": "code",
   "execution_count": 0,
   "metadata": {
    "application/vnd.databricks.v1+cell": {
     "cellMetadata": {
      "byteLimit": 2048000,
      "implicitDf": true,
      "rowLimit": 10000
     },
     "inputWidgets": {},
     "nuid": "5e0f7fd3-8e38-49c7-a639-5fc60dacef9e",
     "showTitle": false,
     "tableResultSettingsMap": {},
     "title": ""
    }
   },
   "outputs": [],
   "source": [
    "-- Browse data from the 3 views created in the script\n",
    "SELECT * FROM dbdemos_patients50_init;\n",
    "SELECT * FROM dbdemos_patients_incr1;\n",
    "SELECT * FROM dbdemos_patients_incr2;"
   ]
  },
  {
   "cell_type": "code",
   "execution_count": 0,
   "metadata": {
    "application/vnd.databricks.v1+cell": {
     "cellMetadata": {
      "byteLimit": 2048000,
      "implicitDf": true,
      "rowLimit": 10000
     },
     "inputWidgets": {},
     "nuid": "1cb26645-174c-459b-b339-4a7a5993f60c",
     "showTitle": false,
     "tableResultSettingsMap": {},
     "title": ""
    }
   },
   "outputs": [],
   "source": [
    "-- Drop the 3 views created in the script\n",
    "DROP VIEW IF EXISTS dbdemos_patients50_init;\n",
    "DROP VIEW IF EXISTS dbdemos_patients_incr1;\n",
    "DROP VIEW IF EXISTS dbdemos_patients_incr2;"
   ]
  },
  {
   "cell_type": "markdown",
   "metadata": {
    "application/vnd.databricks.v1+cell": {
     "cellMetadata": {
      "byteLimit": 2048000,
      "rowLimit": 10000
     },
     "inputWidgets": {},
     "nuid": "fbe6a73e-79ad-4d5e-bfac-a37fae867edb",
     "showTitle": false,
     "tableResultSettingsMap": {},
     "title": ""
    }
   },
   "source": [
    "**Attach a SQL Warehouse and execute this notebook to see the code in action!**"
   ]
  },
  {
   "cell_type": "markdown",
   "metadata": {
    "application/vnd.databricks.v1+cell": {
     "cellMetadata": {
      "byteLimit": 2048000,
      "rowLimit": 10000
     },
     "inputWidgets": {},
     "nuid": "8041e5c9-00ad-46e8-9c7f-d53d0cacd9a1",
     "showTitle": false,
     "tableResultSettingsMap": {},
     "title": ""
    }
   },
   "source": [
    "## Navigate to Patient Dimension demo\n",
    "Start With: [Patient Dimension ETL Introduction]($./01-patient-dimension-ETL-introduction)."
   ]
  }
 ],
 "metadata": {
  "application/vnd.databricks.v1+notebook": {
   "computePreferences": null,
   "dashboards": [],
   "environmentMetadata": {
    "base_environment": "",
    "environment_version": "2"
   },
   "inputWidgetPreferences": null,
   "language": "sql",
   "notebookMetadata": {
    "mostRecentlyExecutedCommandWithImplicitDF": {
     "commandId": -1,
     "dataframes": [
      "_sqldf"
     ]
    },
    "pythonIndentUnit": 2
   },
   "notebookName": "sql-centric-capabilities-examples",
   "widgets": {}
  },
  "language_info": {
   "name": "sql"
  }
 },
 "nbformat": 4,
 "nbformat_minor": 0
}
