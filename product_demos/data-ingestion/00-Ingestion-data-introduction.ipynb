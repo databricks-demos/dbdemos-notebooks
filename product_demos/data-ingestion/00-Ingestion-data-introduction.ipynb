{
 "cells": [
  {
   "cell_type": "markdown",
   "metadata": {
    "application/vnd.databricks.v1+cell": {
     "cellMetadata": {},
     "inputWidgets": {},
     "isMarkdownSandbox": true,
     "nuid": "72b5db75-7e4f-4eae-babe-f75fd6f994a6",
     "showTitle": false,
     "tableResultSettingsMap": {},
     "title": ""
    }
   },
   "source": [
    "\n",
    "# Ingesting data from any sources with Databricks Data Intelligence Platform\n",
    "\n",
    "<img src=\"https://raw.githubusercontent.com/databricks-demos/dbdemos-resources/refs/heads/main/images/manufacturing/lakehouse-iot-turbine/di_platform_0.png\" style=\"float: left; margin-right: 30px\" width=\"600px\" />\n",
    "\n",
    "</br>\n",
    "\n",
    "\n",
    "Your data lives everywhere. Your insights shouldn't.\n",
    "\n",
    "In today's complex data landscape, critical business intelligence is often scattered across countless systems – from enterprise applications and databases to streaming feeds, APIs, and beyond. This fragmentation creates silos, delays insights, and hinders innovation.\n",
    "\n",
    "The Databricks Data Intelligence Platform changes that.\n",
    "\n",
    "With the Databricks Data Intelligence Platform, you can effortlessly ingest data from virtually any source, unifying your entire data estate into a single, intelligent foundation. Whether it's batch, streaming, or change data capture (CDC), we provide robust, scalable, and easy-to-use tools to bring all your data into the Lakehouse.\n",
    "\n",
    "Key capabilities include:\n",
    "\n",
    "- **Universal Connectivity**: Native connectors for enterprise applications (Salesforce, ServiceNow, Workday), databases (SQL Server, Oracle, PostgreSQL), cloud object storage (S3, ADLS, GCS), messaging queues (Kafka, Kinesis, Pub/Sub), and custom APIs.\n",
    "\n",
    "- **Automated & Incremental Ingestion**: Leverage powerful features like Auto Loader for efficient, incremental processing of new files as they arrive, and Lakeflow Connect for managed, serverless pipelines.\n",
    "\n",
    "- **Real-time Ready**: Seamlessly ingest and process high-throughput streaming data for immediate insights, real-time dashboards, and instant decision-making.\n",
    "\n",
    "- **Unified Governance**: Every ingested dataset is automatically governed by Unity Catalog, providing unified visibility, access control, lineage, and discovery across your entire data and AI assets.\n",
    "\n",
    "- **Simplified Data Engineering**: Build and manage data ingestion pipelines with ease using declarative frameworks like Lakeflow Declarative Pipelines (formely known as DLT), reducing complexity and accelerating time to value.\n",
    "\n",
    "Break down data silos, accelerate your data and AI initiatives, and unlock the full potential of your data with the Databricks Data Intelligence Platform."
   ]
  },
  {
   "cell_type": "markdown",
   "metadata": {
    "application/vnd.databricks.v1+cell": {
     "cellMetadata": {},
     "inputWidgets": {},
     "isMarkdownSandbox": true,
     "nuid": "b529c118-ebd2-44ed-b470-ee7a86ec6a51",
     "showTitle": false,
     "tableResultSettingsMap": {},
     "title": ""
    }
   },
   "source": [
    "\n",
    "## 1/ Ingest from Business Applications with Lakeflow connect\n",
    "\n",
    "<img src=\"https://raw.githubusercontent.com/databricks-demos/dbdemos-resources/refs/heads/main/images/product/data-ingestion/lakeflow-connect.png\" style=\"float: left; margin-right: 30px; margin-top: 30px; margin-bottom: 30px;\" width=\"600px\" />\n",
    "\n",
    "**Databricks Lakeflow Connect**\n",
    "Lakeflow Connect is Databricks Lakeflow’s ingestion tool that makes it easy to bring data from many sources—including apps like Salesforce, Workday, and ServiceNow, plus databases, cloud storage, and streaming services—into your Databricks Lakehouse.\n",
    "\n",
    "* Features an intuitive UI for fast setup\n",
    "* Supports incremental and scalable, serverless ingestion\n",
    "* Unifies governance with Unity Catalog for security and discoverability\n",
    "\n",
    "Want to try Lakeflow Connect? Check these Product Tours:\n",
    "\n",
    "[**Ingest from Salesforce:**](https://app.getreprise.com/launch/BXZjz8X/): Seamlessly integrates Salesforce CRM data (including custom objects and formula fields) with Databricks for analytics and AI.\n",
    "\n",
    "[**Ingest Workday Reports:**](https://app.getreprise.com/launch/ryNY32X/): Quickly ingest and manage Workday data, as well as databases, cloud, and local files, with simple pipeline configuration."
   ]
  },
  {
   "cell_type": "markdown",
   "metadata": {
    "application/vnd.databricks.v1+cell": {
     "cellMetadata": {},
     "inputWidgets": {},
     "nuid": "8391b180-1524-4bb1-977f-79b92d88bdb2",
     "showTitle": false,
     "tableResultSettingsMap": {},
     "title": ""
    }
   },
   "source": [
    "\n",
    "## 2/ Read or ingest data in SQL with `read_file` and Lakeflow Declarative Pipelines\n",
    "\n",
    "### Instantly Access Any File with Databricks SQL's `read_files`\n",
    "\n",
    "**Unlock your data's potential, no matter where it lives or what format it's in.**\n",
    "\n",
    "The `read_files` function in Databricks SQL empowers you to directly query and analyze raw data files—from CSVs and JSONs to Parquet and more—stored in your cloud object storage or Unity Catalog volumes. Skip the complex setup and jump straight into insights.\n",
    "\n",
    "**Simply point, query, and transform.** `read_files` intelligently infers schemas, handles diverse file types, and integrates seamlessly with streaming tables for real-time ingestion. It's the fast, flexible way to bring all your files into the Databricks Lakehouse, accelerating your journey from raw data to actionable intelligence."
   ]
  },
  {
   "cell_type": "markdown",
   "metadata": {
    "application/vnd.databricks.v1+cell": {
     "cellMetadata": {},
     "inputWidgets": {},
     "nuid": "73123825-38ec-4450-a7d8-106c443f72bb",
     "showTitle": false,
     "tableResultSettingsMap": {},
     "title": ""
    }
   },
   "source": [
    "\n",
    "Open [01-ingestion-with-sql-read_files]($./01-ingestion-with-sql-read_files)"
   ]
  },
  {
   "cell_type": "markdown",
   "metadata": {
    "application/vnd.databricks.v1+cell": {
     "cellMetadata": {},
     "inputWidgets": {},
     "nuid": "af5a366d-d224-4207-8bf3-ff093de00f9e",
     "showTitle": false,
     "tableResultSettingsMap": {},
     "title": ""
    }
   },
   "source": [
    "## 3/ Ingest Files with Databricks Auto Loader\n",
    "\n",
    "**Databricks Auto Loader** makes file ingestion simple and automatic. It incrementally detects and loads new data files from cloud storage into your Lakehouse—no manual setup required.\n",
    "\n",
    "- **Fully automated streaming:** New data is picked up and processed instantly as it arrives.\n",
    "- **Exactly-once data integrity:** Ensures files are processed just once, even after failures.\n",
    "- **Supports schema evolution:** Automatically adapts as your data evolves.\n",
    "- **Works with many file formats:** Handles JSON, CSV, Parquet, Avro, and more.\n",
    "- **Seamless integration:** Built to work with Delta Live Tables and streaming pipelines.\n",
    "\n",
    "Auto Loader lets you focus on getting insights from data—not on managing file arrivals or pipeline code."
   ]
  },
  {
   "cell_type": "markdown",
   "metadata": {
    "application/vnd.databricks.v1+cell": {
     "cellMetadata": {},
     "inputWidgets": {},
     "nuid": "856cb034-0378-4232-b708-162f7cf8dbb5",
     "showTitle": false,
     "tableResultSettingsMap": {},
     "title": ""
    }
   },
   "source": [
    "\n",
    "Open [02-Auto-loader-schema-evolution-Ingestion]($./02-Auto-loader-schema-evolution-Ingestion)"
   ]
  }
 ],
 "metadata": {
  "application/vnd.databricks.v1+notebook": {
   "computePreferences": null,
   "dashboards": [],
   "environmentMetadata": {
    "base_environment": "dbe_41a50460-c90b-4840-9288-afcb847395d5",
    "environment_version": "2"
   },
   "inputWidgetPreferences": null,
   "language": "python",
   "notebookMetadata": {
    "pythonIndentUnit": 2
   },
   "notebookName": "00-Ingestion-data-introduction",
   "widgets": {}
  },
  "language_info": {
   "name": "python"
  }
 },
 "nbformat": 4,
 "nbformat_minor": 0
}
