{
 "cells": [
  {
   "cell_type": "code",
   "execution_count": 0,
   "metadata": {
    "application/vnd.databricks.v1+cell": {
     "cellMetadata": {
      "byteLimit": 2048000,
      "rowLimit": 10000
     },
     "inputWidgets": {},
     "nuid": "e4ac343e-8bde-45d0-85e3-2b1026a59b6a",
     "showTitle": false,
     "tableResultSettingsMap": {},
     "title": ""
    },
    "jupyter": {
     "outputs_hidden": true
    }
   },
   "outputs": [],
   "source": [
    "# Commenting this out.\n",
    "# This notebook is called from the 06.7 Model Monitoring notebook in the RAI demo\n",
    "# At the point where it is called, the config variables would have been initiazliazed\n",
    "#%run ../config"
   ]
  },
  {
   "cell_type": "code",
   "execution_count": 0,
   "metadata": {
    "application/vnd.databricks.v1+cell": {
     "cellMetadata": {
      "byteLimit": 2048000,
      "rowLimit": 10000
     },
     "inputWidgets": {},
     "nuid": "e94efbc2-5730-450f-87a3-41896e7629a1",
     "showTitle": false,
     "tableResultSettingsMap": {},
     "title": ""
    }
   },
   "outputs": [],
   "source": [
    "# Initialize worksace client\n",
    "from databricks.sdk import WorkspaceClient\n",
    "from databricks.sdk.service import sql\n",
    "\n",
    "w = WorkspaceClient()"
   ]
  },
  {
   "cell_type": "code",
   "execution_count": 0,
   "metadata": {
    "application/vnd.databricks.v1+cell": {
     "cellMetadata": {
      "byteLimit": 2048000,
      "rowLimit": 10000
     },
     "inputWidgets": {},
     "nuid": "4c6c4c12-9e87-4598-bc97-357e1141038d",
     "showTitle": false,
     "tableResultSettingsMap": {},
     "title": ""
    }
   },
   "outputs": [],
   "source": [
    "# Set demo variable names\n",
    "rai_demo_folder_name = \"06-Responsible-AI\"\n",
    "inference_log_table_name = f\"{catalog}.{db}.credit_decisioning_inferencelogs\"\n",
    "inference_log_profile_table_name = f\"{inference_log_table_name}_profile_metrics\""
   ]
  },
  {
   "cell_type": "code",
   "execution_count": 0,
   "metadata": {
    "application/vnd.databricks.v1+cell": {
     "cellMetadata": {
      "byteLimit": 2048000,
      "rowLimit": 10000
     },
     "inputWidgets": {},
     "nuid": "49ed0f1e-83ab-428b-baf1-0a04362a57a5",
     "showTitle": false,
     "tableResultSettingsMap": {},
     "title": ""
    }
   },
   "outputs": [],
   "source": [
    "# SQL statement for the query used for the alert\n",
    "sql_query = f\"\"\"\n",
    "WITH \n",
    "profile_metrics AS (\n",
    "  SELECT * FROM {inference_log_profile_table_name}\n",
    "  WHERE isnull(slice_key) AND isnull(slice_value) -- default to \"No Slice\"\n",
    "  AND   `model_id`   = \"*\" -- default to all model ids\n",
    "),\n",
    "last_window_in_inspection_range AS (\n",
    "  SELECT window.start AS Window, granularity AS Granularity FROM profile_metrics\n",
    "  WHERE window.start = (SELECT MAX(window.start) FROM profile_metrics) \n",
    "  ORDER BY Granularity LIMIT 1 -- order to ensure the `granularity` selected is stable\n",
    "),\n",
    "profile_metrics_inspected AS (\n",
    "  SELECT * FROM profile_metrics\n",
    "  WHERE Granularity = (SELECT Granularity FROM last_window_in_inspection_range)\n",
    ")\n",
    "SELECT\n",
    "  concat(window.start,\" - \", window.end) AS Window,\n",
    "  ROUND(accuracy_score, 2) as accuracy_score,\n",
    "  ROUND(precision.macro,2) as precision_macro,\n",
    "  ROUND(precision.weighted,2) as precision_weighted,\n",
    "  ROUND(recall.macro,2) as recall_macro,\n",
    "  ROUND(recall.weighted,2) as recall_weighted,\n",
    "  ROUND(f1_score.macro, 2) as f1_score_macro,\n",
    "  ROUND(f1_score.weighted, 2) as f1_score_weighted,\n",
    "  granularity AS Granularity,\n",
    "    `model_id`   AS `Model Id`,\n",
    "  COALESCE(slice_key, \"No slice\") AS `Slice key`,\n",
    "  COALESCE(slice_value, \"No slice\") AS `Slice value`\n",
    "FROM profile_metrics_inspected\n",
    "WHERE\n",
    "  window.start = (SELECT Window FROM last_window_in_inspection_range) -- limit to last window\n",
    "  AND log_type = \"INPUT\"\n",
    "  AND column_name = \":table\"\n",
    "ORDER BY slice_key ASC\n",
    "\"\"\""
   ]
  },
  {
   "cell_type": "code",
   "execution_count": 0,
   "metadata": {
    "application/vnd.databricks.v1+cell": {
     "cellMetadata": {
      "byteLimit": 2048000,
      "rowLimit": 10000
     },
     "inputWidgets": {},
     "nuid": "e21a8402-6ff0-4184-8060-0e9beeb51b67",
     "showTitle": false,
     "tableResultSettingsMap": {},
     "title": ""
    }
   },
   "outputs": [],
   "source": [
    "import re\n",
    "\n",
    "# Determine path to save query and alert\n",
    "\n",
    "notebook_path = dbutils.notebook.entry_point.getDbutils().notebook().getContext().notebookPath().getOrElse(None)\n",
    "path_parts = re.split('/', notebook_path)\n",
    "# Remove last 2 elements: notebook name and its folder. This brings us to the lakehouse-fsi-credit-decisioning level\n",
    "del path_parts[-2:]\n",
    "path_parts.append(rai_demo_folder_name)\n",
    "\n",
    "monitoring_assets_path = '/Workspace' + '/'.join(path_parts) + '/monitoring'\n",
    "\n",
    "print(f\"Monitoring assets will be saved in {monitoring_assets_path}\")"
   ]
  },
  {
   "cell_type": "code",
   "execution_count": 0,
   "metadata": {
    "application/vnd.databricks.v1+cell": {
     "cellMetadata": {
      "byteLimit": 2048000,
      "rowLimit": 10000
     },
     "inputWidgets": {},
     "nuid": "3bacd031-e79f-472a-8822-4d4189c0d01e",
     "showTitle": false,
     "tableResultSettingsMap": {},
     "title": ""
    }
   },
   "outputs": [],
   "source": [
    "import time\n",
    "import requests\n",
    "import json\n",
    "\n",
    "# Function to set up parameters\n",
    "def setup_rest_params(endpoint_name):\n",
    "    # Get the workspace URL from the Databricks notebook context\n",
    "    DATABRICKS_HOST = dbutils.notebook.entry_point.getDbutils().notebook().getContext().apiUrl().getOrElse(None)\n",
    "    # print(f\"DATABRICKS_HOST: {DATABRICKS_HOST}\")\n",
    "\n",
    "    # Define the endpoint_url\n",
    "    endpoint_url = f\"{DATABRICKS_HOST}/api/2.0/sql\"\n",
    "\n",
    "    # Get the API key from the Databricks notebook context | You can also use PAT (Personal Access Token) or Service Principal Token for the API key required to access the REST API.\n",
    "    api_key = dbutils.notebook.entry_point.getDbutils().notebook().getContext().apiToken().getOrElse(None)\n",
    "\n",
    "    # Define the headers\n",
    "    headers = {\n",
    "        \"Authorization\": f\"Bearer {api_key}\",\n",
    "        \"Content-Type\": \"application/json\"\n",
    "    }\n",
    "    \n",
    "    return endpoint_url, headers\n",
    "\n",
    "\n",
    "# Send Databricks SQL REST API request\n",
    "def send_request(api_name, request_body):\n",
    "    assert api_name in [\"queries\", \"alerts\", \"warehouses\"], \"Invalid API name. Must be either 'queries' or 'alerts'.\"\n",
    "\n",
    "    endpoint_url, headers = setup_rest_params(endpoint_name)\n",
    "\n",
    "    response = requests.post(f\"{endpoint_url}/{api_name}\", headers=headers, data=json.dumps(request_body))\n",
    "    response.raise_for_status()  # Raise an exception for HTTP errors\n",
    "    return response.json()"
   ]
  },
  {
   "cell_type": "code",
   "execution_count": 0,
   "metadata": {
    "application/vnd.databricks.v1+cell": {
     "cellMetadata": {
      "byteLimit": 2048000,
      "rowLimit": 10000
     },
     "inputWidgets": {},
     "nuid": "943330c6-bb08-4735-ac2d-98b1655b90db",
     "showTitle": false,
     "tableResultSettingsMap": {},
     "title": ""
    }
   },
   "outputs": [],
   "source": [
    "# Get a serverless warehouse\n",
    "# Note that the user has to have manage permissions on it\n",
    "warehouse_id = None\n",
    "wh = w.warehouses.list()\n",
    "for warehouse in wh:\n",
    "  warehouse.enable_serverless_compute = True\n",
    "  serverless_wh = warehouse\n",
    "  break\n",
    "warehouse_id = serverless_wh.id"
   ]
  },
  {
   "cell_type": "code",
   "execution_count": 0,
   "metadata": {
    "application/vnd.databricks.v1+cell": {
     "cellMetadata": {
      "byteLimit": 2048000,
      "rowLimit": 10000
     },
     "inputWidgets": {},
     "nuid": "7e409f12-8d7c-4470-aac2-43d4d5e26473",
     "showTitle": false,
     "tableResultSettingsMap": {},
     "title": ""
    }
   },
   "outputs": [],
   "source": [
    "# Payload for the request to create the SQL query\n",
    "sql_query_request_body = {\n",
    "    \"query\": {\n",
    "        \"display_name\": \"rai_credit_decisioning_performance_last_window\",\n",
    "        \"description\": \"Inference metrics for last window\",\n",
    "        \"query_text\": sql_query,\n",
    "        \"parent_path\": monitoring_assets_path,\n",
    "        \"warehouse_id\": warehouse_id,\n",
    "        \"run_as_mode\": \"OWNER\",\n",
    "    }\n",
    "}"
   ]
  },
  {
   "cell_type": "code",
   "execution_count": 0,
   "metadata": {
    "application/vnd.databricks.v1+cell": {
     "cellMetadata": {
      "byteLimit": 2048000,
      "rowLimit": 10000
     },
     "inputWidgets": {},
     "nuid": "c74ac0a7-9412-4259-8e14-1ca386e0eead",
     "showTitle": false,
     "tableResultSettingsMap": {},
     "title": ""
    }
   },
   "outputs": [],
   "source": [
    "# Create the SQL query\n",
    "try:\n",
    "  response = send_request(\"queries\", sql_query_request_body)\n",
    "  print(f\"SQL query '{response['display_name']}' created successfully in the 'monitoring' folder. ID: {response['id']}.\")\n",
    "except Exception as e:\n",
    "  print(f\"Cannot create SQL query. Error: {e}\")\n",
    "\n",
    "query_id = response.get(\"id\")"
   ]
  },
  {
   "cell_type": "code",
   "execution_count": 0,
   "metadata": {
    "application/vnd.databricks.v1+cell": {
     "cellMetadata": {
      "byteLimit": 2048000,
      "rowLimit": 10000
     },
     "inputWidgets": {},
     "nuid": "1599cbc6-9e34-4a0a-a353-2ab7a2343d1e",
     "showTitle": false,
     "tableResultSettingsMap": {},
     "title": ""
    }
   },
   "outputs": [],
   "source": [
    "# Payload for the request to create the SQL alert\n",
    "sql_alert_request_body = {\n",
    "    \"alert\": {\n",
    "        \"seconds_to_retrigger\": 0,\n",
    "        \"display_name\": \"rai_credit_decisioning_accuracy_alert\",\n",
    "        \"condition\": {\n",
    "            \"op\": \"LESS_THAN\",\n",
    "            \"operand\": {\"column\": {\"name\": \"f1_score_weighted\"}},\n",
    "            \"threshold\": {\"value\": {\"double_value\": 0.9}},\n",
    "        },\n",
    "        \"query_id\": query_id,\n",
    "        \"parent_path\": monitoring_assets_path,\n",
    "    }\n",
    "}"
   ]
  },
  {
   "cell_type": "code",
   "execution_count": 0,
   "metadata": {
    "application/vnd.databricks.v1+cell": {
     "cellMetadata": {
      "byteLimit": 2048000,
      "rowLimit": 10000
     },
     "inputWidgets": {},
     "nuid": "554a5c14-0c38-4b25-a5b0-aaaf8618bbbd",
     "showTitle": false,
     "tableResultSettingsMap": {},
     "title": ""
    }
   },
   "outputs": [],
   "source": [
    "# Create the alert\n",
    "try:\n",
    "  response = send_request(\"alerts\", sql_alert_request_body)\n",
    "  print(f\"SQL alert '{response['display_name']}' created successfully in the 'monitoring' folder. ID: {response['id']}.\")\n",
    "except Exception as e:\n",
    "  print(f\"Cannot create SQL alert. Error: {e}\")\n",
    "\n",
    "alert_id = response.get(\"id\")"
   ]
  },
  {
   "cell_type": "code",
   "execution_count": 0,
   "metadata": {
    "application/vnd.databricks.v1+cell": {
     "cellMetadata": {
      "byteLimit": 2048000,
      "rowLimit": 10000
     },
     "inputWidgets": {},
     "nuid": "b6c99b03-b57d-4f9e-861e-c91ad3fb7083",
     "showTitle": false,
     "tableResultSettingsMap": {},
     "title": ""
    }
   },
   "outputs": [],
   "source": [
    "# from databricks.sdk import WorkspaceClient\n",
    "# from databricks.sdk.service import sql\n",
    "\n",
    "# w = WorkspaceClient()\n",
    "\n",
    "# w.queries.delete(query_id)\n",
    "# w.alerts.delete(alert_id)"
   ]
  }
 ],
 "metadata": {
  "application/vnd.databricks.v1+notebook": {
   "computePreferences": null,
   "dashboards": [],
   "environmentMetadata": {
    "base_environment": "",
    "environment_version": "2"
   },
   "inputWidgetPreferences": null,
   "language": "python",
   "notebookMetadata": {
    "mostRecentlyExecutedCommandWithImplicitDF": {
     "commandId": 893528767941288,
     "dataframes": [
      "_sqldf"
     ]
    },
    "pythonIndentUnit": 2
   },
   "notebookName": "02-create-monitoring-query-and-alert",
   "widgets": {}
  },
  "language_info": {
   "name": "python"
  }
 },
 "nbformat": 4,
 "nbformat_minor": 0
}
