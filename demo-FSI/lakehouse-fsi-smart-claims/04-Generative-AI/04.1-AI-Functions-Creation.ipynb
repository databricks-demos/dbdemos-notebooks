{
 "cells": [
  {
   "cell_type": "markdown",
   "metadata": {
    "application/vnd.databricks.v1+cell": {
     "cellMetadata": {},
     "inputWidgets": {},
     "nuid": "ddcba164-65d0-457b-baa7-917e25c84729",
     "showTitle": false,
     "tableResultSettingsMap": {},
     "title": ""
    }
   },
   "source": [
    "\n",
    "# 🔍 From Manual Reviews to AI-Powered Claims Summaries & Fraud Detection\n",
    "\n",
    "---\n",
    "\n",
    "The financial services industry faces mounting pressure to improve claims processing efficiency while combating fraud. Manual claim summarization processes lead to inconsistent documentation, delayed fraud detection, and inefficient archival of suspicious cases—resulting in operational bottlenecks and increased financial exposure.\n",
    "\n",
    "<div style=\"background: #f7f7f7; border-left: 5px solid #ff5f46; padding: 20px; margin: 20px 0; font-size: 18px;\">\n",
    "\"Industry benchmarks reveal <b>30-day average resolution times</b> for complex claims, with manual processes accounting for <b>40% of processing time</b>—far exceeding the <b>7-10 day ideal</b> for high-risk cases requiring detailed documentation.\"[^1]\n",
    "</div>\n",
    "\n",
    "<div style=\"background: #f7f7f7; border-left: 5px solid green; padding: 20px; margin: 20px 0; font-size: 18px;\">\n",
    "\"Generative AI reduces claims processing time by <b>50%</b> through automated summarization while improving fraud detection accuracy by <b>35%</b> through pattern recognition in historical data.\"[^2]\n",
    "</div>\n",
    "\n",
    "<img src=\"https://raw.githubusercontent.com/databricks-demos/dbdemos-resources/refs/heads/main/images/liza.png\" style=\"width: 100px; vertical-align: middle; margin-right: 10px; float: left;\" />\n",
    "<br>\n",
    "Liza, a Generative AI Engineer, is implementing Databricks AI to transform claims management. Her system will:\n",
    "<div style=\"background: #e0f7fa; border-left: 5px solid #00796b; padding-left: 10px; margin: 0 0; margin-left: 120px\">\n",
    "  <ol style=\"text-align: left;\">\n",
    "    <li>Retrieve all information pertaining to a certain claim id</li>\n",
    "    <li>Automate structured claim summaries using GenAI</li>\n",
    "    <li>Archive enriched case files to Unity Catalog for auditor review</li>\n",
    "  </ol>\n",
    "</div>\n",
    "\n",
    "<!-- [^1]: MD Clarity Industry Benchmark Report 2024, Shipping Insurance Processing Metrics  \n",
    "[^2]: Ricoh USA Claims Automation Study 2023, Ziffity AI Implementation Case Studies  \n",
    "[^3]: Convin AI Fraud Detection Whitepaper 2024: Anomaly Detection in Financial Documents -->\n",
    "\n",
    "<!-- Collect usage data (view). Remove it to disable collection or disable tracker during installation. View README for more details.  -->\n",
    "<img width=\"1px\" src=\"https://ppxrzfxige.execute-api.us-west-2.amazonaws.com/v1/analytics?category=lakehouse&notebook=04.1-AI-Functions-Creation&demo_name=lakehouse-fsi-smart-claims&event=VIEW\">\n"
   ]
  },
  {
   "cell_type": "markdown",
   "metadata": {
    "application/vnd.databricks.v1+cell": {
     "cellMetadata": {},
     "inputWidgets": {},
     "nuid": "1e573efb-5b24-4c62-bf04-5e90f07e9f9f",
     "showTitle": false,
     "tableResultSettingsMap": {},
     "title": ""
    }
   },
   "source": [
    "## The Demo: Automate Suspicious Claims Summaries with Databricks GenAI\n",
    "<!-- \n",
    "<img src=\"https://raw.githubusercontent.com/databricks-demos/dbdemos-resources/refs/heads/main/images/retail/lakehouse-churn/lakehouse-retail-c360-agent-functions.png\" \n",
    "     style=\"float: right; margin-top: 10px; width: 700px; display: block;\" /> -->\n",
    "\n",
    "Databricks Generative AI is revolutionizing claims processing by enabling organizations to automate manual workflows, detect fraud, and unlock insights from previously siloed claims data. Where traditional claims processing can be a time-intensive endeavor, Databricks allows \n",
    "\n",
    "In this demo, we showcase a practical use case for Databricks to improve claims management. We will create an AI agent using the following functions, defined in the subsequent cells:\n",
    "\n",
    "1. **Claims Data Retriever**: This function allows our GenAI agent to fetch claims data based on a given `claim_id`, pulling structured and unstructured data from our Databricks Lakehouse.\n",
    "2. **Claims Summary Generator**: Using generative AI models, this function generates concise summaries of claims, including key details such as incident descriptions, policyholder information, and flagged anomalies for further review.\n",
    "\n",
    "Finally, we will demonstrate how these functions can be applied in batch processing to unlock insights from archived claims data. By automating claims summarization and enabling real-time access to enriched data, insurers can improve operational efficiency and expedite fraud detection.\n",
    "\n",
    "By leveraging Generative AI, insurers can move beyond manual processes to actively **streamline workflows, reduce costs, and enhance fraud detection capabilities**.\n"
   ]
  },
  {
   "cell_type": "code",
   "execution_count": 0,
   "metadata": {
    "application/vnd.databricks.v1+cell": {
     "cellMetadata": {},
     "inputWidgets": {},
     "nuid": "14102976-3346-4880-80d2-ec0c505767e7",
     "showTitle": true,
     "tableResultSettingsMap": {},
     "title": "Configuration Step - Run This Cell!"
    }
   },
   "outputs": [],
   "source": [
    "%run ../_resources/00-setup $reset_all_data=false"
   ]
  },
  {
   "cell_type": "markdown",
   "metadata": {
    "application/vnd.databricks.v1+cell": {
     "cellMetadata": {},
     "inputWidgets": {},
     "nuid": "a7f2560c-3496-4602-a36b-ff60b74ab061",
     "showTitle": false,
     "tableResultSettingsMap": {},
     "title": ""
    }
   },
   "source": [
    "## 📊 Function 1: Get Claim Details  \n",
    "\n",
    "<div style=\"display: flex; align-items: center; gap: 15px;\">\n",
    "  <img src=\"https://raw.githubusercontent.com/databricks-demos/dbdemos-resources/refs/heads/main/images/liza.png\" \n",
    "       style=\"width: 100px; border-radius: 10px;\" />\n",
    "  <div>\n",
    "    Liza's first step in automating claims processing is to retrieve all relevant information for a given claim.  \n",
    "    This function, `get_claim_details`, takes in a claim ID and returns the necessary data to generate a comprehensive claim summary.  \n",
    "    The retrieved data includes incident descriptions, policyholder information, claim history, and any associated documents—providing the foundation for accurate and efficient summarization.\n",
    "  </div>\n",
    "</div>\n",
    "\n",
    "### 🛠️ Next Step  \n",
    "In the following section, we define the `get_claim_details` function, which retrieves structured and unstructured data from the Databricks Lakehouse to enable automated claims summarization.\n"
   ]
  },
  {
   "cell_type": "code",
   "execution_count": 0,
   "metadata": {
    "application/vnd.databricks.v1+cell": {
     "cellMetadata": {
      "byteLimit": 2048000,
      "rowLimit": 10000
     },
     "inputWidgets": {},
     "nuid": "b30e126c-3822-46c4-a57a-523b647b4b66",
     "showTitle": false,
     "tableResultSettingsMap": {},
     "title": ""
    }
   },
   "outputs": [],
   "source": [
    "CREATE OR REPLACE FUNCTION get_claim_details (\n",
    "  claim_id STRING\n",
    ")\n",
    "RETURNS TABLE (\n",
    "  claim_no STRING,\n",
    "  policy_no STRING,\n",
    "  chassis_number STRING,\n",
    "  claim_amount_total BIGINT,\n",
    "  incident_type STRING,\n",
    "  incident_date DATE,\n",
    "  incident_severity STRING,\n",
    "  driver_age DOUBLE,\n",
    "  suspicious_activity BOOLEAN,\n",
    "  make STRING,\n",
    "  model STRING,\n",
    "  model_year BIGINT,\n",
    "  policytype STRING,\n",
    "  sum_insured DOUBLE,\n",
    "  borough STRING,\n",
    "  neighborhood STRING\n",
    ")\n",
    "LANGUAGE SQL\n",
    "COMMENT 'Returns essential claim details for the given claim ID'\n",
    "RETURN(\n",
    "  SELECT\n",
    "    claim_no,\n",
    "    policy_no,\n",
    "    chassis_no AS chassis_number,\n",
    "    claim_amount_total,\n",
    "    incident_type,\n",
    "    incident_date,\n",
    "    incident_severity,\n",
    "    driver_age,\n",
    "    suspicious_activity,\n",
    "    make,\n",
    "    model,\n",
    "    model_year,\n",
    "    policytype,\n",
    "    sum_insured,\n",
    "    borough,\n",
    "    neighborhood\n",
    "  FROM claim_policy_telematics_ml\n",
    "  WHERE claim_no = claim_id\n",
    "  LIMIT 1);"
   ]
  },
  {
   "cell_type": "markdown",
   "metadata": {
    "application/vnd.databricks.v1+cell": {
     "cellMetadata": {},
     "inputWidgets": {},
     "nuid": "075f6b70-834c-4a32-be39-d12c13d88af9",
     "showTitle": false,
     "tableResultSettingsMap": {},
     "title": ""
    }
   },
   "source": [
    "### Example:\n",
    "\n",
    "Let's ensure that our new tool works. Here we look up a claim that we know is suspicious for testing:"
   ]
  },
  {
   "cell_type": "code",
   "execution_count": 0,
   "metadata": {
    "application/vnd.databricks.v1+cell": {
     "cellMetadata": {
      "byteLimit": 2048000,
      "rowLimit": 10000
     },
     "inputWidgets": {},
     "nuid": "2bd23255-7b89-4abc-be61-239014c1d4e7",
     "showTitle": false,
     "tableResultSettingsMap": {},
     "title": ""
    }
   },
   "outputs": [],
   "source": [
    "SELECT * FROM get_claim_details(\"5627e63a-f54b-4316-8abe-a5c5c3cfc7e0\")"
   ]
  },
  {
   "cell_type": "markdown",
   "metadata": {
    "application/vnd.databricks.v1+cell": {
     "cellMetadata": {},
     "inputWidgets": {},
     "nuid": "727980f2-9015-4d12-9796-1ab3c8cd8568",
     "showTitle": false,
     "tableResultSettingsMap": {},
     "title": ""
    }
   },
   "source": [
    "### Example:\n",
    "\n",
    "And, let's look up a claim we know is not suspicious!"
   ]
  },
  {
   "cell_type": "code",
   "execution_count": 0,
   "metadata": {
    "application/vnd.databricks.v1+cell": {
     "cellMetadata": {
      "byteLimit": 2048000,
      "rowLimit": 10000
     },
     "inputWidgets": {},
     "nuid": "8a2b40fb-8947-4d88-8932-a736b1dd4ad4",
     "showTitle": false,
     "tableResultSettingsMap": {},
     "title": ""
    }
   },
   "outputs": [],
   "source": [
    "SELECT * FROM get_claim_details(\"6a365ec8-4def-4b4e-910f-0a9a033aab82\")"
   ]
  },
  {
   "cell_type": "markdown",
   "metadata": {
    "application/vnd.databricks.v1+cell": {
     "cellMetadata": {},
     "inputWidgets": {},
     "nuid": "c59daa83-a1cd-49d8-afdd-9d634d392415",
     "showTitle": false,
     "tableResultSettingsMap": {},
     "title": ""
    }
   },
   "source": [
    "## 📝 Function 2: Generate Claim Summary  \n",
    "\n",
    "<div style=\"display: flex; align-items: center; gap: 15px;\">\n",
    "  <img src=\"https://raw.githubusercontent.com/databricks-demos/dbdemos-resources/refs/heads/main/images/liza.png\" \n",
    "       style=\"width: 100px; border-radius: 10px;\" />\n",
    "  <div>\n",
    "    After retrieving the necessary claim details using the `get_claim_details` function, the next step is to generate a concise and structured summary of the claim.  \n",
    "    The `generate_claim_summary` function uses Generative AI to process the retrieved data and produce a human-readable summary, which includes:\n",
    "    <ul>\n",
    "      <li>Incident description</li>\n",
    "      <li>Policyholder information</li>\n",
    "      <li>Claim amount and status</li>\n",
    "      <li>Relevant notes or flagged items for further review</li>\n",
    "    </ul>\n",
    "    This summary helps streamline claims processing and provides a clear overview for auditors or claims adjusters.\n",
    "  </div>\n",
    "</div>\n",
    "\n",
    "### 🛠️ Next Step  \n",
    "In the following section, we define the `generate_claim_summary` function, which takes the output from `get_claim_details` and applies Generative AI to create structured summaries for individual claims. This enables faster decision-making and improved efficiency in claims management workflows.\n"
   ]
  },
  {
   "cell_type": "markdown",
   "metadata": {
    "application/vnd.databricks.v1+cell": {
     "cellMetadata": {},
     "inputWidgets": {},
     "nuid": "893dd34e-8687-4874-bd6d-79e125d7b4f2",
     "showTitle": false,
     "tableResultSettingsMap": {},
     "title": ""
    }
   },
   "source": [
    "### Step 1: Define the model prompt\n",
    "\n",
    "This function will utilize Perplexity by-default for creating customized claims summaries.\n",
    "\n",
    "Feel free to manipulate and change the below prompt in order to generate whatever kind of claims summary you think would be most impactful!"
   ]
  },
  {
   "cell_type": "code",
   "execution_count": 0,
   "metadata": {
    "application/vnd.databricks.v1+cell": {
     "cellMetadata": {
      "byteLimit": 2048000,
      "rowLimit": 10000
     },
     "inputWidgets": {},
     "nuid": "3e3e80ed-43d2-496d-8ab6-a50a23a38204",
     "showTitle": false,
     "tableResultSettingsMap": {},
     "title": ""
    }
   },
   "outputs": [],
   "source": [
    "%python\n",
    "prompt = \"\"\"\n",
    "You are an expert insurance claim analyst with 25 years of experience in the auto insurance industry. Your task is to generate a comprehensive, professional claim summary report.\n",
    "\n",
    "## Output Format:\n",
    "Create a well-structured report with these clearly labeled sections:\n",
    "1. **CLAIM SUMMARY**: A concise 3-4 sentence overview of the incident\n",
    "2. **CLAIM INFORMATION**: Policy details and financial impact\n",
    "3. **INCIDENT DETAILS**: Date, location, type, and severity\n",
    "4. **VEHICLE INFORMATION**: Make, model, and specifications\n",
    "5. **RISK ASSESSMENT**: Analysis of any suspicious activity and next steps\n",
    "\n",
    "## Guidelines:\n",
    "- Maintain professional, formal language suitable for insurance industry standards\n",
    "- Be precise with facts, dates, and monetary values\n",
    "- If suspicious activity is flagged, note potential investigation requirements\n",
    "- The tone should be objective and authoritative\n",
    "- Total report length should be approximately 250-300 words\n",
    "- Format monetary values appropriately (e.g., $10,000.00)\n",
    "- Use insurance industry terminology where appropriate\n",
    "\n",
    "Analyze the following claim data and provide your expert assessment:\n",
    "\"\"\""
   ]
  },
  {
   "cell_type": "markdown",
   "metadata": {
    "application/vnd.databricks.v1+cell": {
     "cellMetadata": {},
     "inputWidgets": {},
     "nuid": "9b9eea35-5520-4e2a-841d-ebb491a5c1e5",
     "showTitle": false,
     "tableResultSettingsMap": {},
     "title": ""
    }
   },
   "source": [
    "### Step 2: Function definition\n",
    "\n",
    "Next, like before, we will utilize `ai_query` to define our function, leveraging the prompt from our previous cell as well as the previous two functions. "
   ]
  },
  {
   "cell_type": "code",
   "execution_count": 0,
   "metadata": {
    "application/vnd.databricks.v1+cell": {
     "cellMetadata": {
      "byteLimit": 2048000,
      "rowLimit": 10000
     },
     "inputWidgets": {},
     "nuid": "265822a4-fcf2-443a-9830-41dd0f76752e",
     "showTitle": false,
     "tableResultSettingsMap": {},
     "title": ""
    }
   },
   "outputs": [],
   "source": [
    "%python\n",
    "spark.sql(f\"\"\"\n",
    "  CREATE OR REPLACE FUNCTION generate_claim_summary(\n",
    "    claim_no STRING,\n",
    "    policy_no STRING,\n",
    "    chassis_number STRING,\n",
    "    claim_amount_total STRING,\n",
    "    incident_type STRING,\n",
    "    incident_date STRING,\n",
    "    incident_severity STRING,\n",
    "    driver_age STRING,\n",
    "    suspicious_activity STRING,\n",
    "    make STRING,\n",
    "    model STRING,\n",
    "    model_year STRING,\n",
    "    policytype STRING,\n",
    "    sum_insured STRING,\n",
    "    borough STRING,\n",
    "    neighborhood STRING\n",
    "  )\n",
    "  RETURNS STRING\n",
    "  LANGUAGE SQL\n",
    "  COMMENT \"Generates a professional insurance claim summary using AI based on the provided claim details. This function produces a well-structured report with sections for Claim Information, Incident Details, Vehicle Information, and Policy Details.\"\n",
    "  RETURN (\n",
    "    SELECT ai_query(\n",
    "      'databricks-mixtral-8x7b-instruct',\n",
    "      CONCAT(\n",
    "        \"{prompt}\"\n",
    "        'Claim details: ', \n",
    "        TO_JSON(NAMED_STRUCT('claim_no', claim_no, 'policy_no', policy_no, 'chassis_number', chassis_number, 'claim_amount_total', claim_amount_total, 'incident_type', incident_type, 'incident_date', incident_date, 'incident_severity', incident_severity, 'driver_age', driver_age, 'suspicious_activity', suspicious_activity, 'make', make, 'model', model, 'model_year', model_year, 'policytype', policytype, 'sum_insured', sum_insured, 'borough', borough, 'neighborhood', neighborhood))\n",
    "      )\n",
    "    )\n",
    "  )\n",
    "  \"\"\")"
   ]
  },
  {
   "cell_type": "markdown",
   "metadata": {
    "application/vnd.databricks.v1+cell": {
     "cellMetadata": {},
     "inputWidgets": {},
     "nuid": "4d0971e4-d75a-4f20-af9f-56b444bc3361",
     "showTitle": false,
     "tableResultSettingsMap": {},
     "title": ""
    }
   },
   "source": [
    "###  Step 3a: Suspicious Claim Example:\n",
    "Now, let's make sure that this works. Let's manually input claims data pertaining to a claim we know is suspicious, and see how the summary looks! Feel free to modify the prompt above if you prefer a different output!"
   ]
  },
  {
   "cell_type": "code",
   "execution_count": 0,
   "metadata": {
    "application/vnd.databricks.v1+cell": {
     "cellMetadata": {
      "byteLimit": 2048000,
      "rowLimit": 10000
     },
     "inputWidgets": {},
     "nuid": "d1864e38-d42e-4a26-afa5-b9646a30872a",
     "showTitle": false,
     "tableResultSettingsMap": {},
     "title": ""
    }
   },
   "outputs": [],
   "source": [
    "SELECT generate_claim_summary(\"5627e63a-f54b-4316-8abe-a5c5c3cfc7e0\", \"102085057\", \"JN1CC11C37T012187\", \"61500\", \"Single Vehicle Collision\", \"2016-04-20\", \"Minor Damage\", \"47\", \"true\", \"NISSAN\", \"TIIDA\", \"2007\", \"COMP\", \"10000\", \"QUEENS\", \"WEST CENTRAL QUEENS\") AS claim_summary"
   ]
  },
  {
   "cell_type": "markdown",
   "metadata": {
    "application/vnd.databricks.v1+cell": {
     "cellMetadata": {},
     "inputWidgets": {},
     "nuid": "5938e47b-1d52-4199-9389-f700100712c4",
     "showTitle": false,
     "tableResultSettingsMap": {},
     "title": ""
    }
   },
   "source": [
    "###  Step 3b: Non-Suspicious Claim Example:\n",
    "Now, let's make sure that this works. Let's manually input claims data pertaining to a claim we know is suspicious, and see how the summary looks! Feel free to modify the prompt above if you prefer a different output!"
   ]
  },
  {
   "cell_type": "code",
   "execution_count": 0,
   "metadata": {
    "application/vnd.databricks.v1+cell": {
     "cellMetadata": {
      "byteLimit": 2048000,
      "rowLimit": 10000
     },
     "inputWidgets": {},
     "nuid": "e98d1339-2b47-4f79-b670-b8378023f640",
     "showTitle": false,
     "tableResultSettingsMap": {},
     "title": ""
    }
   },
   "outputs": [],
   "source": [
    "SELECT generate_claim_summary(\"6a365ec8-4def-4b4e-910f-0a9a033aab82\", \"102085055\", \"VWPW11K78W108679\", \"59700\", \"Multi-vehicle Collision\", \"2016-10-20\", \"Major Damage\", \"35\", \"true\", \"VOLKSWAGEN\", \"GOLF\", \"2008\", \"COMP\", \"30000\", \"MANHATTAN\", \"LOWER MANHATTAN\") AS claim_summary"
   ]
  },
  {
   "cell_type": "markdown",
   "metadata": {
    "application/vnd.databricks.v1+cell": {
     "cellMetadata": {},
     "inputWidgets": {},
     "nuid": "f1fecc37-35f7-4549-8c75-afdb513c7a7b",
     "showTitle": false,
     "tableResultSettingsMap": {},
     "title": ""
    }
   },
   "source": [
    "## 🚀 Operation 3: Apply Our Functions in Batch to Suspicious Claims  \n",
    "\n",
    "<div style=\"display: flex; align-items: center; gap: 15px;\">\n",
    "  <img src=\"https://raw.githubusercontent.com/databricks-demos/dbdemos-resources/refs/heads/main/images/liza.png\" \n",
    "       style=\"width: 100px; border-radius: 10px;\" />\n",
    "  <div>\n",
    "    Now that Liza has implemented the `get_claim_details` and `generate_claim_summary` functions, the next step is to scale these operations by applying them in batch to a dataset of suspicious claims.  \n",
    "    This operation enables organizations to:\n",
    "    <ul>\n",
    "      <li>Process large volumes of archived claims efficiently</li>\n",
    "      <li>Generate summaries for flagged claims based on predefined criteria (e.g., high claim amounts or anomalies)</li>\n",
    "      <li>Democratize access to enriched claim data for auditors and fraud investigators</li>\n",
    "      <li>Identify patterns across multiple claims for fraud detection and risk analysis</li>\n",
    "    </ul>\n",
    "    By leveraging Databricks' scalable compute capabilities, this batch processing operation ensures that even large datasets can be analyzed quickly and effectively.\n",
    "  </div>\n",
    "</div>\n",
    "\n",
    "### 🛠️ Next Step  \n",
    "In the following section, we demonstrate how to apply the `get_claim_details` and `generate_claim_summary` functions in batch mode to process suspicious claims. This includes:\n",
    "1. Loading a dataset of flagged claims from Unity Catalog.\n",
    "2. Iteratively applying the functions to generate summaries for each claim.\n",
    "3. Storing the enriched summaries back into Unity Catalog for downstream analysis.\n",
    "\n",
    "<small>💡 Batch processing unlocks insights from historical claims data, enabling proactive fraud detection and improved operational efficiency.</small>\n"
   ]
  },
  {
   "cell_type": "markdown",
   "metadata": {
    "application/vnd.databricks.v1+cell": {
     "cellMetadata": {},
     "inputWidgets": {},
     "nuid": "60aa257e-0f37-4eaf-8442-ec1deff35fe1",
     "showTitle": false,
     "tableResultSettingsMap": {},
     "title": ""
    }
   },
   "source": [
    "<div style=\"background: #ffe6e6; border-left: 5px solid #ff5f46; padding: 15px; margin: 20px 0; font-size: 16px;\">\n",
    "🚨 <b>Notice:</b> Uncomment the following block of code to generate claim summaries in batch!  \n",
    "\n",
    "\n",
    "⚠️ <i>Note:</i> This operation may take some time depending on the size of your dataset and the size of Databricks compute that you utilize.\n",
    "</div>\n"
   ]
  },
  {
   "cell_type": "code",
   "execution_count": 0,
   "metadata": {
    "application/vnd.databricks.v1+cell": {
     "cellMetadata": {
      "byteLimit": 2048000,
      "rowLimit": 10000
     },
     "inputWidgets": {},
     "nuid": "147646c8-5cf2-4cc8-b4dc-1595e1e72d64",
     "showTitle": false,
     "tableResultSettingsMap": {},
     "title": ""
    }
   },
   "outputs": [],
   "source": [
    "CREATE OR REPLACE TABLE suspicious_claim_report_table AS\n",
    "SELECT \n",
    "  claim_no, \n",
    "  suspicious_activity, \n",
    "  generate_claim_summary(\n",
    "    claim_no, \n",
    "    policy_no, \n",
    "    CHASSIS_NO, \n",
    "    claim_amount_total, \n",
    "    incident_type, \n",
    "    incident_date, \n",
    "    incident_severity, \n",
    "    driver_age, \n",
    "    suspicious_activity, \n",
    "    MAKE, \n",
    "    MODEL, \n",
    "    MODEL_YEAR, \n",
    "    POLICYTYPE, \n",
    "    SUM_INSURED, \n",
    "    BOROUGH, \n",
    "    NEIGHBORHOOD\n",
    "  ) AS claim_report \n",
    "FROM (\n",
    "  SELECT * \n",
    "  FROM claim_policy_telematics_ml\n",
    "  WHERE suspicious_activity = true\n",
    "  -- REMOVE LIMIT if you would like to apply this summarization to more claims!\n",
    "  LIMIT 10\n",
    ")"
   ]
  },
  {
   "cell_type": "code",
   "execution_count": 0,
   "metadata": {
    "application/vnd.databricks.v1+cell": {
     "cellMetadata": {},
     "inputWidgets": {},
     "nuid": "6905e171-9907-4dff-8182-80f68bed48c5",
     "showTitle": false,
     "tableResultSettingsMap": {},
     "title": ""
    }
   },
   "outputs": [],
   "source": [
    "%sql\n",
    "SELECT * FROM suspicious_claim_report_table LIMIT 10;"
   ]
  },
  {
   "cell_type": "markdown",
   "metadata": {
    "application/vnd.databricks.v1+cell": {
     "cellMetadata": {},
     "inputWidgets": {},
     "nuid": "4f10a920-e9cd-455b-b83a-e36472c65a83",
     "showTitle": false,
     "tableResultSettingsMap": {},
     "title": ""
    }
   },
   "source": [
    "## Next Steps\n",
    "\n",
    "Proceed to notebook [04.2-Agent-Creation-Guide]($./04.2-Agent-Creation-Guide) in order to package the above functions into an implementable AI Agent with Databricks!"
   ]
  }
 ],
 "metadata": {
  "application/vnd.databricks.v1+notebook": {
   "computePreferences": null,
   "dashboards": [],
   "environmentMetadata": {
    "base_environment": "",
    "environment_version": "2"
   },
   "inputWidgetPreferences": null,
   "language": "sql",
   "notebookMetadata": {
    "pythonIndentUnit": 2
   },
   "notebookName": "04.1-AI-Functions-Creation",
   "widgets": {}
  },
  "language_info": {
   "name": "sql"
  }
 },
 "nbformat": 4,
 "nbformat_minor": 0
}
