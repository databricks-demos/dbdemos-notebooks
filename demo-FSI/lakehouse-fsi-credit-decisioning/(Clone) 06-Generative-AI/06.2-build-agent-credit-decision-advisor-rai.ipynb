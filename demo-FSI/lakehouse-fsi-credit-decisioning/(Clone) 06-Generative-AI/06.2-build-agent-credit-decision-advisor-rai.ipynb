{
 "cells": [
  {
   "cell_type": "markdown",
   "metadata": {
    "application/vnd.databricks.v1+cell": {
     "cellMetadata": {
      "byteLimit": 2048000,
      "rowLimit": 10000
     },
     "inputWidgets": {},
     "nuid": "b9f55760-d6ca-4e7f-8d21-f90f24347898",
     "showTitle": false,
     "tableResultSettingsMap": {},
     "title": ""
    }
   },
   "source": [
    "Build credit advisor agent using AI Tools/functions"
   ]
  },
  {
   "cell_type": "code",
   "execution_count": 0,
   "metadata": {
    "application/vnd.databricks.v1+cell": {
     "cellMetadata": {
      "byteLimit": 2048000,
      "rowLimit": 10000
     },
     "inputWidgets": {},
     "nuid": "f5fb2bbf-bb2f-4553-91b0-5a5f9c032d63",
     "showTitle": false,
     "tableResultSettingsMap": {},
     "title": ""
    }
   },
   "outputs": [],
   "source": [
    "%pip install unitycatalog-ai[databricks] unitycatalog-langchain[databricks] databricks-langchain"
   ]
  },
  {
   "cell_type": "code",
   "execution_count": 0,
   "metadata": {
    "application/vnd.databricks.v1+cell": {
     "cellMetadata": {
      "byteLimit": 2048000,
      "rowLimit": 10000
     },
     "inputWidgets": {},
     "nuid": "c590b992-cded-4122-b144-3160b1962ac8",
     "showTitle": false,
     "tableResultSettingsMap": {},
     "title": ""
    }
   },
   "outputs": [],
   "source": [
    "dbutils.library.restartPython()"
   ]
  },
  {
   "cell_type": "code",
   "execution_count": 0,
   "metadata": {
    "application/vnd.databricks.v1+cell": {
     "cellMetadata": {
      "byteLimit": 2048000,
      "rowLimit": 10000
     },
     "inputWidgets": {},
     "nuid": "4492feea-345b-4e9c-96a8-2c1c755b67db",
     "showTitle": false,
     "tableResultSettingsMap": {},
     "title": ""
    }
   },
   "outputs": [],
   "source": [
    "%run ../_resources/00-setup $reset_all_data=false"
   ]
  },
  {
   "cell_type": "code",
   "execution_count": 0,
   "metadata": {
    "application/vnd.databricks.v1+cell": {
     "cellMetadata": {
      "byteLimit": 2048000,
      "rowLimit": 10000
     },
     "inputWidgets": {},
     "nuid": "c99c5d53-819f-4a04-8f29-59d042d1ce0f",
     "showTitle": false,
     "tableResultSettingsMap": {},
     "title": ""
    }
   },
   "outputs": [],
   "source": [
    "#Build a UCFunctionToolkit with two functions\n",
    "from unitycatalog.ai.core.databricks import DatabricksFunctionClient\n",
    "from databricks_langchain import UCFunctionToolkit\n",
    "function_names = [\n",
    "    f\"{catalog}.{db}.explain_model_shap\",\n",
    "    f\"{catalog}.{db}.credit_score\"\n",
    "]\n",
    "toolkit = UCFunctionToolkit(function_names=function_names)\n",
    "tools = toolkit.tools"
   ]
  },
  {
   "cell_type": "code",
   "execution_count": 0,
   "metadata": {
    "application/vnd.databricks.v1+cell": {
     "cellMetadata": {
      "byteLimit": 2048000,
      "rowLimit": 10000
     },
     "inputWidgets": {},
     "nuid": "56c5aa8e-1e8f-4cd8-b4c6-ac650e04647a",
     "showTitle": true,
     "tableResultSettingsMap": {},
     "title": "Build the agent"
    }
   },
   "outputs": [],
   "source": [
    "# Imports\n",
    "from unitycatalog.ai.core.databricks import DatabricksFunctionClient\n",
    "from databricks_langchain import UCFunctionToolkit, ChatDatabricks\n",
    "from langchain.prompts import ChatPromptTemplate\n",
    "from langchain.agents import AgentExecutor, create_tool_calling_agent\n",
    "import mlflow\n",
    "\n",
    "# Initialize the LLM\n",
    "LLM_ENDPOINT = \"databricks-claude-3-7-sonnet\"  # or your preferred model\n",
    "llm = ChatDatabricks(endpoint=LLM_ENDPOINT, temperature=0.0)\n",
    "\n",
    "# Define a system+human prompt template\n",
    "prompt = ChatPromptTemplate.from_messages([\n",
    "(\"system\", \"\"\"\n",
    "You are a formal, exploratory Credit Risk Advisor for business users.  \n",
    "Whenever a customer ID is supplied, follow this exact sequence:\n",
    "\n",
    "1. **Credit Score:**  \n",
    "   – Call `credit_score` to fetch the customer’s prediction and full feature record.  \n",
    "   – Label it **Credit Score:** and summarize in business terms.\n",
    "\n",
    "2. **SHAP Explanation:**  \n",
    "   – Call `explain_model_shap` to fetch the customer’s SHAP values.  \n",
    "   – Label it **SHAP Explanation:** and summarize in business terms.\n",
    "   – For *each* of the top 5 contributing features, list:  \n",
    "     • **Feature name**  \n",
    "     • **SHAP value** (with sign and magnitude)  \n",
    "     • **Business impact** (“This feature increased/decreased risk because…”)  \n",
    "     • **Fairness note** (“This feature contributes more to risk for Group A than Group B, increasing bias by X%.”)\n",
    "\n",
    "3. As a final step, consolidate all the results and findings from the above step and summarize in business-friendly language what the score means and a detailed, explainable, and fairness-aware credit-risk analysis tailored to business users for credit risk management. Show the consolidated summary first, and then the details\n",
    "\n",
    "If no customer ID is provided, ask explicitly: \"A valid customer ID is required to retrieve credit risk insights. Please provide the customer ID.\"\n",
    "\n",
    "Always clearly label outputs, explain their meaning in straightforward business language, maintain a formal yet exploratory tone, and highlight potential compliance implications.\n",
    "\"\"\"),\n",
    "    (\"human\", \"{input}\"),\n",
    "    (\"placeholder\", \"{agent_scratchpad}\")\n",
    "])\n",
    "\n",
    "# Enable MLflow autologging for traceability\n",
    "mlflow.langchain.autolog()\n",
    "\n",
    "# Create the agent wired with your tools and prompt\n",
    "agent = create_tool_calling_agent(llm=llm, tools=tools, prompt=prompt)\n",
    "\n",
    "# Wrap in an executor for easy programmatic use\n",
    "agent_executor = AgentExecutor(agent=agent, tools=tools, verbose=True)"
   ]
  },
  {
   "cell_type": "code",
   "execution_count": 0,
   "metadata": {
    "application/vnd.databricks.v1+cell": {
     "cellMetadata": {
      "byteLimit": 2048000,
      "rowLimit": 10000
     },
     "inputWidgets": {},
     "nuid": "86483a7a-7f7c-4570-8ac4-9fddad59ab08",
     "showTitle": false,
     "tableResultSettingsMap": {},
     "title": ""
    }
   },
   "outputs": [],
   "source": [
    "#Example invocations:\n",
    "print(agent_executor.invoke({\"input\": \"what is the default risk prediction for cust_id 5451. explain why the model predicted that value for cust_id 5451.\"}))"
   ]
  },
  {
   "cell_type": "code",
   "execution_count": 0,
   "metadata": {
    "application/vnd.databricks.v1+cell": {
     "cellMetadata": {},
     "inputWidgets": {},
     "nuid": "dd521e5b-2bc0-466c-9b08-b84ab713f7ad",
     "showTitle": false,
     "tableResultSettingsMap": {},
     "title": ""
    }
   },
   "outputs": [],
   "source": []
  }
 ],
 "metadata": {
  "application/vnd.databricks.v1+notebook": {
   "computePreferences": {
    "hardware": {
     "accelerator": null,
     "gpuPoolId": null,
     "memory": "HIGH"
    }
   },
   "dashboards": [],
   "environmentMetadata": {
    "base_environment": "",
    "environment_version": "2"
   },
   "inputWidgetPreferences": null,
   "language": "python",
   "notebookMetadata": {
    "mostRecentlyExecutedCommandWithImplicitDF": {
     "commandId": 58049841323135,
     "dataframes": [
      "_sqldf"
     ]
    },
    "pythonIndentUnit": 2
   },
   "notebookName": "06.2-build-agent-credit-decision-advisor-rai",
   "widgets": {}
  },
  "language_info": {
   "name": "python"
  }
 },
 "nbformat": 4,
 "nbformat_minor": 0
}
