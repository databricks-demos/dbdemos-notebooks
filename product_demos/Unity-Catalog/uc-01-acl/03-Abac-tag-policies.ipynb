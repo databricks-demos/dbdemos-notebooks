{
 "cells": [
  {
   "cell_type": "markdown",
   "metadata": {
    "application/vnd.databricks.v1+cell": {
     "cellMetadata": {
      "byteLimit": 2048000,
      "rowLimit": 10000
     },
     "inputWidgets": {},
     "nuid": "ecddd8f8-0e73-45a6-b048-ba940f3cc667",
     "showTitle": false,
     "tableResultSettingsMap": {},
     "title": ""
    }
   },
   "source": [
    "## ABAC\n",
    "\n",
    "\n",
    "ABAC is a data governance model that provides flexible, scalable, and centralized access control across Databricks. ABAC complements Unity Catalog's existing privilege model by allowing policies to be defined based on governed tags, which are applied to data assets. This simplifies governance and strengthens security posture.\n",
    "<br style=\"clear: both\"/>\n",
    "\n",
    "<img src=\"https://github.com/databricks-demos/dbdemos-resources/blob/main/images/product/uc/acls/table_uc_rlscls_intro.png?raw=true\" width=\"200\" style=\"float: right; margin-top: 20; margin-left: 20; margin-right: 20\" alt=\"databricks-demos\"/>\n",
    "\n",
    "## Policies \n",
    "\n",
    "Policies are created and managed at three hierarchical levels within Unity Catalog:\n",
    "Catalog level: Apply broad policies affecting all contained schemas and tables.\n",
    "Schema level: Apply policies specific to a schema and its tables.\n",
    "Table level: Apply fine-grained policies directly on individual tables.\n",
    "\n",
    "\n",
    "Two types of ABAC policies are supported:\n",
    "\n",
    "Row filter policies restrict access to individual rows in a table based on their content. A filter UDF evaluates whether each row should be visible to a user. These policies are useful when access depends on data characteristics.\n",
    "\n",
    "\n",
    "Column mask policies control what values users see in specific columns. A masking UDF can return the actual value or a redacted version, based on governed tags.\n",
    "\n",
    "\n",
    "\n"
   ]
  },
  {
   "cell_type": "code",
   "execution_count": 0,
   "metadata": {
    "application/vnd.databricks.v1+cell": {
     "cellMetadata": {
      "byteLimit": 2048000,
      "rowLimit": 10000
     },
     "inputWidgets": {},
     "nuid": "8c515e1b-fa10-4b39-9951-8e80597af70d",
     "showTitle": false,
     "tableResultSettingsMap": {},
     "title": ""
    }
   },
   "outputs": [],
   "source": [
    "%run ./_resources/00-setup"
   ]
  },
  {
   "cell_type": "code",
   "execution_count": 0,
   "metadata": {
    "application/vnd.databricks.v1+cell": {
     "cellMetadata": {
      "byteLimit": 2048000,
      "rowLimit": 10000
     },
     "inputWidgets": {},
     "nuid": "2b7a7433-1be4-47ba-8009-8687c1f5e6b6",
     "showTitle": false,
     "tableResultSettingsMap": {},
     "title": ""
    }
   },
   "outputs": [],
   "source": [
    "SELECT current_user(), is_account_group_member('ANALYST_USA_DBDEMO');"
   ]
  },
  {
   "cell_type": "code",
   "execution_count": 0,
   "metadata": {
    "application/vnd.databricks.v1+cell": {
     "cellMetadata": {
      "byteLimit": 2048000,
      "implicitDf": true,
      "rowLimit": 10000
     },
     "inputWidgets": {},
     "nuid": "ed8eda05-7041-4a55-ae44-b2387c63c891",
     "showTitle": false,
     "tableResultSettingsMap": {},
     "title": ""
    }
   },
   "outputs": [],
   "source": [
    "%sql\n",
    "USE CATALOG main;\n",
    "use schema dbdemos_uc_01_acl;\n",
    "\n",
    "SELECT CURRENT_CATALOG(),current_schema();\n"
   ]
  },
  {
   "cell_type": "code",
   "execution_count": 0,
   "metadata": {
    "application/vnd.databricks.v1+cell": {
     "cellMetadata": {
      "byteLimit": 2048000,
      "implicitDf": true,
      "rowLimit": 10000
     },
     "inputWidgets": {},
     "nuid": "bcd0dc8d-b328-436b-9ad3-24db5a0c02f0",
     "showTitle": false,
     "tableResultSettingsMap": {},
     "title": ""
    }
   },
   "outputs": [],
   "source": [
    "%sql CREATE OR REPLACE TABLE \n",
    "  customers (\n",
    "    `name` STRING, \n",
    "    ssn STRING ,\n",
    "    region String);"
   ]
  },
  {
   "cell_type": "code",
   "execution_count": 0,
   "metadata": {
    "application/vnd.databricks.v1+cell": {
     "cellMetadata": {
      "byteLimit": 2048000,
      "rowLimit": 10000
     },
     "inputWidgets": {},
     "nuid": "f0261b05-23e7-42be-9108-270394ee76f3",
     "showTitle": false,
     "tableResultSettingsMap": {},
     "title": ""
    }
   },
   "outputs": [],
   "source": [
    "INSERT INTO\n",
    "  customers\n",
    "values\n",
    "  (\"Jane Doe\", \"111-11-1111\", \"eu\"),\n",
    "  (\"Joane Doe\", \"123-12-1234\", \"us\"),\n",
    "  (\"Joe Doe\", \"222-33-4444\",\"apac\");"
   ]
  },
  {
   "cell_type": "markdown",
   "metadata": {
    "application/vnd.databricks.v1+cell": {
     "cellMetadata": {
      "byteLimit": 2048000,
      "rowLimit": 10000
     },
     "inputWidgets": {},
     "nuid": "4db8d533-5170-4255-849f-9762f6e84935",
     "showTitle": false,
     "tableResultSettingsMap": {},
     "title": ""
    }
   },
   "source": [
    "## Row Filter Policies\n",
    " Row filters allow you to apply a filter to a table so that queries return only rows that meet the filter criteria. Row filter policies are implemented using a user-defined function (UDF) written in SQL. Python and Scala UDFs are also supported, but only when they are wrapped in SQL UDFs.\n",
    "\n",
    "Row Filter policies extend this functionality by referencing a specific tag, and is then enforced anywhere the tag is applied.  The syntax for building a row filter policy is as follows\n"
   ]
  },
  {
   "cell_type": "code",
   "execution_count": 0,
   "metadata": {
    "application/vnd.databricks.v1+cell": {
     "cellMetadata": {
      "byteLimit": 2048000,
      "rowLimit": 10000
     },
     "inputWidgets": {},
     "nuid": "09ae83d8-8326-4e82-b7ed-1fa6441e962e",
     "showTitle": false,
     "tableResultSettingsMap": {},
     "title": ""
    }
   },
   "outputs": [],
   "source": [
    "--CREATE UDF - Required as the Policy will call this UDF at  runtime\n",
    "CREATE or REPLACE FUNCTION non_eu_region (geo_region STRING) \n",
    "RETURNS BOOLEAN\n",
    "  RETURN geo_region <> 'eu';\n"
   ]
  },
  {
   "cell_type": "code",
   "execution_count": 0,
   "metadata": {
    "application/vnd.databricks.v1+cell": {
     "cellMetadata": {
      "byteLimit": 2048000,
      "rowLimit": 10000
     },
     "inputWidgets": {},
     "nuid": "6e0ae62a-30a4-49b5-8cde-2ddaf1c788f5",
     "showTitle": false,
     "tableResultSettingsMap": {},
     "title": ""
    }
   },
   "outputs": [],
   "source": [
    "-- CREATE POLICY - Calls the UDF created in the first step.  \n",
    "CREATE or REPLACE POLICY hide_eu_customers \n",
    "ON SCHEMA main.dbdemos_uc_01_acl\n",
    "COMMENT 'Hide european customers from sensitive tables'\n",
    "ROW FILTER non_eu_region\n",
    "TO ANALYST_USA_DBDEMO\n",
    "FOR TABLES\n",
    "MATCH COLUMNS \n",
    "  hasTag('geo_region') AS region\n",
    "USING COLUMNS(region);\n",
    "\n"
   ]
  },
  {
   "cell_type": "code",
   "execution_count": 0,
   "metadata": {
    "application/vnd.databricks.v1+cell": {
     "cellMetadata": {
      "byteLimit": 2048000,
      "rowLimit": 10000
     },
     "inputWidgets": {},
     "nuid": "f49c84e7-48bf-447f-a583-66b407e524c2",
     "showTitle": false,
     "tableResultSettingsMap": {},
     "title": ""
    }
   },
   "outputs": [],
   "source": [
    "-- TAG A TABLE - tag a table in the prod.customers schema so the \n",
    "--  policy will be applied\n",
    "ALTER  TABLE main.dbdemos_uc_01_acl.customers\n",
    "ALTER COLUMN region\n",
    "SET TAGS('geo_region');"
   ]
  },
  {
   "cell_type": "code",
   "execution_count": 0,
   "metadata": {
    "application/vnd.databricks.v1+cell": {
     "cellMetadata": {
      "byteLimit": 2048000,
      "rowLimit": 10000
     },
     "inputWidgets": {},
     "nuid": "27b92125-6b99-46cc-afc1-ac20e4b8c5b1",
     "showTitle": false,
     "tableResultSettingsMap": {},
     "title": ""
    }
   },
   "outputs": [],
   "source": [
    "--GRANT USER ACCESS - Grant a user SELECT access to a table \n",
    "GRANT SELECT ON TABLE main.dbdemos_uc_01_acl.customers TO ANALYST_USA_DBDEMO"
   ]
  },
  {
   "cell_type": "code",
   "execution_count": 0,
   "metadata": {
    "application/vnd.databricks.v1+cell": {
     "cellMetadata": {
      "byteLimit": 2048000,
      "rowLimit": 10000
     },
     "inputWidgets": {},
     "nuid": "9a99dc65-c9ac-45c6-b942-62c77b012cbf",
     "showTitle": false,
     "tableResultSettingsMap": {},
     "title": ""
    }
   },
   "outputs": [],
   "source": [
    "select * from main.dbdemos_uc_01_acl.customers"
   ]
  },
  {
   "cell_type": "markdown",
   "metadata": {
    "application/vnd.databricks.v1+cell": {
     "cellMetadata": {},
     "inputWidgets": {},
     "nuid": "7d773563-9652-4893-b634-d3218c14113a",
     "showTitle": false,
     "tableResultSettingsMap": {},
     "title": ""
    }
   },
   "source": [
    "## Column Mask Policies\n",
    "Column masks let you apply a masking function to a table column. The masking function evaluates at query runtime, substituting each reference of the target column with the results of the masking function. For most use cases, column masks determine whether to return the original column value or redact it based on the identity of the invoking user. Column masks are expressions written as SQL UDFs or as Python or Scala UDFs that are wrapped in SQL UDFs.\n",
    "\n",
    "Column Masking Policies extend this functionality by referencing a specific tag and is then enforced anywhere the tag is applied.\n"
   ]
  },
  {
   "cell_type": "code",
   "execution_count": 0,
   "metadata": {
    "application/vnd.databricks.v1+cell": {
     "cellMetadata": {
      "byteLimit": 2048000,
      "rowLimit": 10000
     },
     "inputWidgets": {},
     "nuid": "e71ff376-cb60-4851-8fd4-1af6b735dd93",
     "showTitle": false,
     "tableResultSettingsMap": {},
     "title": ""
    }
   },
   "outputs": [],
   "source": [
    "-- CREATE UDF - Required as the Policy will call this UDF at //  \n",
    "--  runtime\n",
    "CREATE or REPLACE FUNCTION mask_SSN (ssn STRING) \n",
    "RETURN '***-**-****';\n"
   ]
  },
  {
   "cell_type": "code",
   "execution_count": 0,
   "metadata": {
    "application/vnd.databricks.v1+cell": {
     "cellMetadata": {
      "byteLimit": 2048000,
      "rowLimit": 10000
     },
     "inputWidgets": {},
     "nuid": "0b1cb265-5ab2-4d48-a163-75d81960eaba",
     "showTitle": false,
     "tableResultSettingsMap": {},
     "title": ""
    }
   },
   "outputs": [],
   "source": [
    "-- UPDATE POLICY - Calls the UDF created in the first step.  \n",
    "CREATE or REPLACE POLICY mask_ssn \n",
    "ON SCHEMA main.dbdemos_uc_01_acl\n",
    "COMMENT 'mask ssn'\n",
    "COLUMN MASK mask_SSN\n",
    "TO ANALYST_USA_DBDEMO\n",
    "FOR TABLES\n",
    "MATCH COLUMNS \n",
    "  hasTagValue('pii','ssn') AS ssn\n",
    "ON COLUMN ssn;"
   ]
  },
  {
   "cell_type": "code",
   "execution_count": 0,
   "metadata": {
    "application/vnd.databricks.v1+cell": {
     "cellMetadata": {
      "byteLimit": 2048000,
      "rowLimit": 10000
     },
     "inputWidgets": {},
     "nuid": "5dfb14e7-604c-4bea-8a4a-6147e213951a",
     "showTitle": false,
     "tableResultSettingsMap": {},
     "title": ""
    }
   },
   "outputs": [],
   "source": [
    "-- TAG A TABLE - tag a table in the prod.customers schema so the \n",
    "--  policy will be applied\n",
    "ALTER  TABLE main.dbdemos_uc_01_acl.customers\n",
    "ALTER COLUMN ssn\n",
    "SET TAGS('pii'='ssn');"
   ]
  },
  {
   "cell_type": "code",
   "execution_count": 0,
   "metadata": {
    "application/vnd.databricks.v1+cell": {
     "cellMetadata": {
      "byteLimit": 2048000,
      "rowLimit": 10000
     },
     "inputWidgets": {},
     "nuid": "258879b3-abe5-40ad-9562-7eb683187738",
     "showTitle": false,
     "tableResultSettingsMap": {},
     "title": ""
    }
   },
   "outputs": [],
   "source": [
    "select * from main.dbdemos_uc_01_acl.customers"
   ]
  },
  {
   "cell_type": "code",
   "execution_count": 0,
   "metadata": {
    "application/vnd.databricks.v1+cell": {
     "cellMetadata": {
      "byteLimit": 2048000,
      "rowLimit": 10000
     },
     "inputWidgets": {},
     "nuid": "ee80ec37-08fc-4c26-8090-16b8ef39e5b5",
     "showTitle": false,
     "tableResultSettingsMap": {},
     "title": ""
    }
   },
   "outputs": [],
   "source": [
    "DROP POLICY hide_eu_customers ON Schema main.dbdemos_uc_01_acl;\n",
    "\n",
    "DROP POLICY mask_ssn ON Schema main.dbdemos_uc_01_acl;\n"
   ]
  },
  {
   "cell_type": "code",
   "execution_count": 0,
   "metadata": {
    "application/vnd.databricks.v1+cell": {
     "cellMetadata": {},
     "inputWidgets": {},
     "nuid": "2103eceb-e73b-4ea3-a1ae-ba070b9d98a6",
     "showTitle": false,
     "tableResultSettingsMap": {},
     "title": ""
    }
   },
   "outputs": [],
   "source": []
  }
 ],
 "metadata": {
  "application/vnd.databricks.v1+notebook": {
   "computePreferences": null,
   "dashboards": [],
   "environmentMetadata": {
    "base_environment": "dbe_c75093c8-0895-475e-8c1b-6acacfe3368b",
    "environment_version": "2"
   },
   "inputWidgetPreferences": null,
   "language": "sql",
   "notebookMetadata": {
    "mostRecentlyExecutedCommandWithImplicitDF": {
     "commandId": 2805190872489298,
     "dataframes": [
      "_sqldf"
     ]
    },
    "pythonIndentUnit": 2
   },
   "notebookName": "03-Abac-tag-policies",
   "widgets": {}
  },
  "language_info": {
   "name": "sql"
  }
 },
 "nbformat": 4,
 "nbformat_minor": 0
}
